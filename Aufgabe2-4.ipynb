{
 "cells": [
  {
   "attachments": {},
   "cell_type": "markdown",
   "metadata": {},
   "source": [
    "Wissenschaftliche Simulation\n",
    "Projekt 1: Lineare Ausgleichsprobleme\n",
    "\n"
   ]
  },
  {
   "attachments": {},
   "cell_type": "markdown",
   "metadata": {},
   "source": [
    "Wir möchten lineare Ausgleichsprobleme der Form min ∥b − Ax∥ A ∈ R ^m×n, b ∈ R^m, m ≥ n lösen.\n"
   ]
  },
  {
   "attachments": {},
   "cell_type": "markdown",
   "metadata": {},
   "source": [
    "Aufgabe 2:"
   ]
  },
  {
   "attachments": {},
   "cell_type": "markdown",
   "metadata": {},
   "source": [
    "Zunächst versuchen wir, das Ausgleichsproblem über die Gaußschen Normalengleichungen zu lösen."
   ]
  },
  {
   "attachments": {},
   "cell_type": "markdown",
   "metadata": {},
   "source": [
    "i) Schreiben Sie ein Programm, welches für eine gegebene symmetrische, positiv definite Matrix A ihre Cholesky-Zerlegung A = LL^⊤ bestimmt. \n",
    "Überprüfen Sie jeweils, ob die Eingabematrix A die Voraussetzungen erfüllt."
   ]
  },
  {
   "cell_type": "code",
   "execution_count": 7,
   "metadata": {},
   "outputs": [
    {
     "name": "stdout",
     "output_type": "stream",
     "text": [
      "Cholesky-Zerlegung von A:\n",
      "[[2.         0.         0.        ]\n",
      " [1.         2.         0.        ]\n",
      " [0.5        1.25       2.04633819]]\n"
     ]
    }
   ],
   "source": [
    "\n",
    "'''\n",
    "Das Programm überprüft zuerst, ob die gegebene Matrix A symmetrisch ist, \n",
    "indem die Funktion is_symmetric verwendet wird. \n",
    "Wenn die Matrix nicht symmetrisch ist, wird eine entsprechende Fehlermeldung ausgegeben und das Programm beendet. \n",
    "Anschließend wird überprüft, ob die Matrix A positiv definit ist, indem die Funktion is_positive_definite verwendet wird.\n",
    "Wenn die Matrix nicht positiv definit ist, wird eine Fehlermeldung ausgegeben und das Programm beendet. \n",
    "Wenn beide Voraussetzungen erfüllt sind, wird die Cholesky-Zerlegung von A mit der Funktion cholesky_decomposition berechnet und ausgegeben.\n",
    "\n",
    "'''\n",
    "\n",
    "import numpy as np\n",
    "from numpy.linalg import qr\n",
    "\n",
    "# Funktion zur Überprüfung der Symmetrie einer Matrix\n",
    "def is_symmetric(matrix):\n",
    "    return np.allclose(matrix, matrix.T)\n",
    "\n",
    "# Funktion zur Überprüfung der positiven Definitheit einer Matrix\n",
    "def is_positive_definite(matrix):\n",
    "    eigenvalues, _ = np.linalg.eig(matrix)\n",
    "    return np.all(eigenvalues > 0)\n",
    "\n",
    "# Funktion zur Berechnung der Cholesky-Zerlegung\n",
    "def cholesky_decomposition(matrix):\n",
    "    return np.linalg.cholesky(matrix)\n",
    "\n",
    "# Beispielmatrix A\n",
    "A = np.array ([[4, 2, 1],\n",
    "              [2, 5, 3],\n",
    "              [1, 3, 6]])\n",
    "\n",
    "# Überprüfung der Voraussetzungen von A\n",
    "if not is_symmetric(A):\n",
    "    print(\"Die Matrix A ist nicht symmetrisch.\")\n",
    "    exit()\n",
    "elif not is_positive_definite(A):\n",
    "    print(\"Die Matrix A ist nicht positiv definit.\")\n",
    "    exit()\n",
    "\n",
    "# Berechnung der Cholesky-Zerlegung von A\n",
    "L_eins = cholesky_decomposition(A)\n",
    "\n",
    "print(\"Cholesky-Zerlegung von A:\")\n",
    "print(L_eins)\n"
   ]
  },
  {
   "attachments": {},
   "cell_type": "markdown",
   "metadata": {},
   "source": [
    "ii)Schreiben Sie ein Programm, welches das lineare Ausgleichsproblem durch Lösen der\n",
    "Gaußschen Normalengleichungen löst. Verwenden Sie Ihr Programm aus (i), um zunächst\n",
    "die Cholesky-Zerlegung der Matrix A^TA zu bestimmen."
   ]
  },
  {
   "cell_type": "code",
   "execution_count": 9,
   "metadata": {},
   "outputs": [
    {
     "name": "stdout",
     "output_type": "stream",
     "text": [
      "Lösung x:\n",
      "[1.8358209  0.64179104 1.37313433]\n"
     ]
    }
   ],
   "source": [
    "'''\n",
    "Das Programm verwendet die zuvor definierte Funktion cholesky_decomposition zur Berechnung der Cholesky-Zerlegung von A^T * A. \n",
    "Anschließend werden die Gaußschen Normalengleichungen A^T * A * x = A^T * b gelöst, indem das Cholesky-Zerlegungsverfahren auf A^T * A angewendet wird. \n",
    "Die Lösung des linearen Gleichungssystems erfolgt mit Hilfe der numpy-Funktion solve. \n",
    "Der Vektor x enthält die Lösung des linearen Ausgleichsproblems.\n",
    "\n",
    "'''\n",
    "\n",
    "\n",
    "# Funktion zur Lösung des linearen Ausgleichsproblems über die Gaußschen Normalengleichungen\n",
    "def solve_least_squares(A, b):\n",
    "    # Berechnung von A^T * A und A^T * b\n",
    "    ATA = np.dot(A.T, A)\n",
    "    ATb = np.dot(A.T, b)\n",
    "\n",
    "    # Cholesky-Zerlegung von A^T * A\n",
    "    L_zwei = cholesky_decomposition(ATA)\n",
    "\n",
    "    # Lösung des linearen Gleichungssystems L * L^T * x = A^T * b\n",
    "    y = np.linalg.solve(L_zwei, ATb)\n",
    "    x = np.linalg.solve(L_zwei.T, y)\n",
    "\n",
    "    return x\n",
    "\n",
    "# Vektor b\n",
    "\n",
    "b = np.array([10, 11, 12])\n",
    "\n",
    "# Lösung des linearen Ausgleichsproblems\n",
    "x = solve_least_squares(A, b)\n",
    "\n",
    "print(\"Lösung x:\")\n",
    "print(x)"
   ]
  },
  {
   "attachments": {},
   "cell_type": "markdown",
   "metadata": {},
   "source": [
    "Aufgabe 3:"
   ]
  },
  {
   "attachments": {},
   "cell_type": "markdown",
   "metadata": {},
   "source": [
    "Nun möchten wir das Ausgleichsproblem mit einem Orthogonalisierungsverfahren lösen. \n",
    "Dazu transformieren wir das Gleichungssystem Ax = b auf das System Q^T Ax = Q^T b mit Q^T A = [R  0] und Q^⊤ b = [b1 b2],"
   ]
  },
  {
   "attachments": {},
   "cell_type": "markdown",
   "metadata": {},
   "source": [
    "Dann lösen wir das System Rx = b1"
   ]
  },
  {
   "attachments": {},
   "cell_type": "markdown",
   "metadata": {},
   "source": [
    "i) Schreiben Sie ein Programm, welches das Gleichungssystem transformiert\n",
    "    \n",
    "   "
   ]
  },
  {
   "attachments": {},
   "cell_type": "markdown",
   "metadata": {},
   "source": [
    "a) über Householder-Orthogonalisierung,"
   ]
  },
  {
   "cell_type": "code",
   "execution_count": 10,
   "metadata": {},
   "outputs": [
    {
     "ename": "UFuncTypeError",
     "evalue": "Cannot cast ufunc 'subtract' output from dtype('float64') to dtype('int32') with casting rule 'same_kind'",
     "output_type": "error",
     "traceback": [
      "\u001b[1;31m---------------------------------------------------------------------------\u001b[0m",
      "\u001b[1;31mUFuncTypeError\u001b[0m                            Traceback (most recent call last)",
      "\u001b[1;32mc:\\Users\\panla\\OneDrive\\Documents\\HRW\\Master 3 Semester\\WiSi\\WiSi_Projekt_1\\Aufgabe2-4.ipynb Cell 14\u001b[0m in \u001b[0;36m<cell line: 35>\u001b[1;34m()\u001b[0m\n\u001b[0;32m     <a href='vscode-notebook-cell:/c%3A/Users/panla/OneDrive/Documents/HRW/Master%203%20Semester/WiSi/WiSi_Projekt_1/Aufgabe2-4.ipynb#X52sZmlsZQ%3D%3D?line=30'>31</a>\u001b[0m     \u001b[39mreturn\u001b[39;00m x\n\u001b[0;32m     <a href='vscode-notebook-cell:/c%3A/Users/panla/OneDrive/Documents/HRW/Master%203%20Semester/WiSi/WiSi_Projekt_1/Aufgabe2-4.ipynb#X52sZmlsZQ%3D%3D?line=33'>34</a>\u001b[0m \u001b[39m# Lösung des Ausgleichsproblems mit Householder-Orthogonalisierung\u001b[39;00m\n\u001b[1;32m---> <a href='vscode-notebook-cell:/c%3A/Users/panla/OneDrive/Documents/HRW/Master%203%20Semester/WiSi/WiSi_Projekt_1/Aufgabe2-4.ipynb#X52sZmlsZQ%3D%3D?line=34'>35</a>\u001b[0m x \u001b[39m=\u001b[39m householder_qr(A, b)\n\u001b[0;32m     <a href='vscode-notebook-cell:/c%3A/Users/panla/OneDrive/Documents/HRW/Master%203%20Semester/WiSi/WiSi_Projekt_1/Aufgabe2-4.ipynb#X52sZmlsZQ%3D%3D?line=36'>37</a>\u001b[0m \u001b[39mprint\u001b[39m(\u001b[39m\"\u001b[39m\u001b[39mLösung x:\u001b[39m\u001b[39m\"\u001b[39m)\n\u001b[0;32m     <a href='vscode-notebook-cell:/c%3A/Users/panla/OneDrive/Documents/HRW/Master%203%20Semester/WiSi/WiSi_Projekt_1/Aufgabe2-4.ipynb#X52sZmlsZQ%3D%3D?line=37'>38</a>\u001b[0m \u001b[39mprint\u001b[39m(x)\n",
      "\u001b[1;32mc:\\Users\\panla\\OneDrive\\Documents\\HRW\\Master 3 Semester\\WiSi\\WiSi_Projekt_1\\Aufgabe2-4.ipynb Cell 14\u001b[0m in \u001b[0;36mhouseholder_qr\u001b[1;34m(A, b)\u001b[0m\n\u001b[0;32m     <a href='vscode-notebook-cell:/c%3A/Users/panla/OneDrive/Documents/HRW/Master%203%20Semester/WiSi/WiSi_Projekt_1/Aufgabe2-4.ipynb#X52sZmlsZQ%3D%3D?line=13'>14</a>\u001b[0m v \u001b[39m=\u001b[39m v \u001b[39m/\u001b[39m np\u001b[39m.\u001b[39mlinalg\u001b[39m.\u001b[39mnorm(v)\n\u001b[0;32m     <a href='vscode-notebook-cell:/c%3A/Users/panla/OneDrive/Documents/HRW/Master%203%20Semester/WiSi/WiSi_Projekt_1/Aufgabe2-4.ipynb#X52sZmlsZQ%3D%3D?line=15'>16</a>\u001b[0m \u001b[39m# Aktualisierung von R\u001b[39;00m\n\u001b[1;32m---> <a href='vscode-notebook-cell:/c%3A/Users/panla/OneDrive/Documents/HRW/Master%203%20Semester/WiSi/WiSi_Projekt_1/Aufgabe2-4.ipynb#X52sZmlsZQ%3D%3D?line=16'>17</a>\u001b[0m R[k:, k:] \u001b[39m-\u001b[39m\u001b[39m=\u001b[39m \u001b[39m2\u001b[39m \u001b[39m*\u001b[39m np\u001b[39m.\u001b[39mouter(v, np\u001b[39m.\u001b[39mdot(v, R[k:, k:]))\n\u001b[0;32m     <a href='vscode-notebook-cell:/c%3A/Users/panla/OneDrive/Documents/HRW/Master%203%20Semester/WiSi/WiSi_Projekt_1/Aufgabe2-4.ipynb#X52sZmlsZQ%3D%3D?line=18'>19</a>\u001b[0m \u001b[39m# Aktualisierung von Q\u001b[39;00m\n\u001b[0;32m     <a href='vscode-notebook-cell:/c%3A/Users/panla/OneDrive/Documents/HRW/Master%203%20Semester/WiSi/WiSi_Projekt_1/Aufgabe2-4.ipynb#X52sZmlsZQ%3D%3D?line=19'>20</a>\u001b[0m Q[k:, :] \u001b[39m-\u001b[39m\u001b[39m=\u001b[39m \u001b[39m2\u001b[39m \u001b[39m*\u001b[39m np\u001b[39m.\u001b[39mouter(v, np\u001b[39m.\u001b[39mdot(v, Q[k:, :]))\n",
      "\u001b[1;31mUFuncTypeError\u001b[0m: Cannot cast ufunc 'subtract' output from dtype('float64') to dtype('int32') with casting rule 'same_kind'"
     ]
    }
   ],
   "source": [
    "'''\n",
    "Das Programm verwendet die Householder-Orthogonalisierung, um die Matrizen Q und R zu berechnen. \n",
    "Anschließend wird das Gleichungssystem Q^T Ax = Q^T b durch Multiplikation von A und b mit der transponierten Matrix Q transformiert. \n",
    "Das reduzierte Gleichungssystem Rx = b1 wird gelöst, wobei R die obere Dreiecksmatrix aus R1 ist.\n",
    "\n",
    "'''\n",
    "\n",
    "def householder_qr(A, b):\n",
    "    m, n = A.shape\n",
    "\n",
    "    # Initialisierung der Matrizen Q und R\n",
    "    Q = np.eye(m)\n",
    "    R = A.copy()\n",
    "\n",
    "    for k in range(n):\n",
    "        # Berechnung des Householder-Vektors\n",
    "        x = R[k:, k]\n",
    "        e = np.zeros_like(x)\n",
    "        e[0] = np.linalg.norm(x)\n",
    "        v = x + np.sign(x[0]) * e\n",
    "        v = v / np.linalg.norm(v)\n",
    "\n",
    "        # Aktualisierung von R\n",
    "        R[k:, k:] -= 2 * np.outer(v, np.dot(v, R[k:, k:]))\n",
    "\n",
    "        # Aktualisierung von Q\n",
    "        Q[k:, :] -= 2 * np.outer(v, np.dot(v, Q[k:, :]))\n",
    "\n",
    "    # Transformation des Gleichungssystems\n",
    "    QTA = np.dot(Q.T, A)\n",
    "    QTb = np.dot(Q.T, b)\n",
    "\n",
    "    # Lösen des transformierten Gleichungssystems\n",
    "    R1 = R[:n, :n]\n",
    "    b1 = QTb[:n]\n",
    "    x = np.linalg.solve(R1, b1)\n",
    "\n",
    "    return x\n",
    "\n",
    "\n",
    "# Lösung des Ausgleichsproblems mit Householder-Orthogonalisierung\n",
    "x = householder_qr(A, b)\n",
    "\n",
    "print(\"Lösung x:\")\n",
    "print(x)\n"
   ]
  },
  {
   "cell_type": "code",
   "execution_count": null,
   "metadata": {},
   "outputs": [],
   "source": []
  },
  {
   "cell_type": "code",
   "execution_count": null,
   "metadata": {},
   "outputs": [],
   "source": []
  },
  {
   "attachments": {},
   "cell_type": "markdown",
   "metadata": {},
   "source": [
    " b) mittels Givens-Rotation."
   ]
  },
  {
   "attachments": {},
   "cell_type": "markdown",
   "metadata": {},
   "source": []
  },
  {
   "cell_type": "code",
   "execution_count": null,
   "metadata": {},
   "outputs": [],
   "source": [
    "import numpy as np\n",
    "from numpy.linalg import qr\n",
    "from sympy import *"
   ]
  },
  {
   "cell_type": "code",
   "execution_count": null,
   "metadata": {},
   "outputs": [],
   "source": []
  },
  {
   "attachments": {},
   "cell_type": "markdown",
   "metadata": {},
   "source": [
    "ii)Schreiben Sie ein Programm, welches das reduzierte Gleichungssystem Rx = b1 löst."
   ]
  },
  {
   "attachments": {},
   "cell_type": "markdown",
   "metadata": {},
   "source": [
    "Aufgabe 4:"
   ]
  },
  {
   "attachments": {},
   "cell_type": "markdown",
   "metadata": {},
   "source": [
    "Schreiben Sie ein Skript, welches Ihre Implementierung aus Aufgabe 2 und 3 anhand anhand mehrerer\n",
    "Beispiele testet. Geben Sie zusätzlich jeweils das Residuum aus und vergleichen Sie Ihre\n",
    "Ergebnisse"
   ]
  },
  {
   "attachments": {},
   "cell_type": "markdown",
   "metadata": {},
   "source": []
  },
  {
   "attachments": {},
   "cell_type": "markdown",
   "metadata": {},
   "source": []
  }
 ],
 "metadata": {
  "kernelspec": {
   "display_name": "base",
   "language": "python",
   "name": "python3"
  },
  "language_info": {
   "codemirror_mode": {
    "name": "ipython",
    "version": 3
   },
   "file_extension": ".py",
   "mimetype": "text/x-python",
   "name": "python",
   "nbconvert_exporter": "python",
   "pygments_lexer": "ipython3",
   "version": "3.9.12"
  },
  "orig_nbformat": 4
 },
 "nbformat": 4,
 "nbformat_minor": 2
}
