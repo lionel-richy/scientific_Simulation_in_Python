{
 "cells": [
  {
   "attachments": {},
   "cell_type": "markdown",
   "metadata": {},
   "source": [
    "Wissenschaftliche Simulation\n",
    "Projekt 1: Lineare Ausgleichsprobleme\n",
    "\n"
   ]
  },
  {
   "attachments": {},
   "cell_type": "markdown",
   "metadata": {},
   "source": [
    "Wir möchten lineare Ausgleichsprobleme der Form min ∥b − Ax∥ A ∈ R ^m×n, b ∈ R^m, m ≥ n lösen.\n"
   ]
  },
  {
   "attachments": {},
   "cell_type": "markdown",
   "metadata": {},
   "source": [
    "Aufgabe 2:"
   ]
  },
  {
   "attachments": {},
   "cell_type": "markdown",
   "metadata": {},
   "source": [
    "Zunächst versuchen wir, das Ausgleichsproblem über die Gaußschen Normalengleichungen zu lösen."
   ]
  },
  {
   "attachments": {},
   "cell_type": "markdown",
   "metadata": {},
   "source": [
    "i) Schreiben Sie ein Programm, welches für eine gegebene symmetrische, positiv definite Matrix A ihre Cholesky-Zerlegung A = LL^⊤ bestimmt. \n",
    "Überprüfen Sie jeweils, ob die Eingabematrix A die Voraussetzungen erfüllt."
   ]
  },
  {
   "cell_type": "code",
   "execution_count": null,
   "metadata": {},
   "outputs": [],
   "source": [
    "#code\n",
    "import numpy as np\n",
    "from numpy.linalg import qr\n",
    "from sympy import *"
import numpy as np

def is_square(matrix):
    rows, cols = matrix.shape
    return rows == cols

def is_symmetric(matrix):
    return np.allclose(matrix, matrix.T)

def cholesky_decomposition(A):
    if not is_square(A):
        raise ValueError("Eingabematrix ist nicht quadratisch.")
    if not is_symmetric(A):
        raise ValueError("Eingabematrix ist nicht symmetrisch.")

    n = len(A)
    L = np.zeros((n, n))

    for i in range(n):
        for j in range(i + 1):
            if i == j:
                temp = A[i, i] - np.sum(L[i, :i] ** 2)
                if temp <= 0:
                    raise ValueError("Eingabematrix erfüllt nicht die Voraussetzung der positiven Definitheit.")
                L[i, i] = np.sqrt(temp)
            else:
                temp = A[i, j] - np.dot(L[i, :j], L[j, :j])
                L[i, j] = temp / L[j, j]

    return L
   ]
  },
  {
   "attachments": {},
   "cell_type": "markdown",
   "metadata": {},
   "source": [
    "ii)Schreiben Sie ein Programm, welches das lineare Ausgleichsproblem durch Lösen der\n",
    "Gaußschen Normalengleichungen löst. Verwenden Sie Ihr Programm aus (i), um zunächst\n",
    "die Cholesky-Zerlegung der Matrix A^A zu bestimmen."
   ]
  },
  {
   "cell_type": "code",
   "execution_count": null,
   "metadata": {},
   "outputs": [],
   "source": [
    "#code\n",
    "import numpy as np\n",
    "from numpy.linalg import qr\n",
    "from sympy import *"
   ]
  },
  {
   "attachments": {},
   "cell_type": "markdown",
   "metadata": {},
   "source": []
  },
  {
   "cell_type": "code",
   "execution_count": null,
   "metadata": {},
   "outputs": [],
   "source": [
    "import numpy as np\n",
    "from numpy.linalg import qr\n",
    "from sympy import *"
   ]
  },
  {
   "attachments": {},
   "cell_type": "markdown",
   "metadata": {},
   "source": [
    "Aufgabe 3:"
   ]
  },
  {
   "attachments": {},
   "cell_type": "markdown",
   "metadata": {},
   "source": [
    "Nun möchten wir das Ausgleichsproblem mit einem Orthogonalisierungsverfahren lösen. \n",
    "Dazu transformieren wir das Gleichungssystem Ax = b auf das System Q^T Ax = Q^T b mit Q^T A = [R  0] und Q^⊤ b = [b1 b2],"
   ]
  },
  {
   "attachments": {},
   "cell_type": "markdown",
   "metadata": {},
   "source": [
    "Dann lösen wir das System Rx = b1"
   ]
  },
  {
   "attachments": {},
   "cell_type": "markdown",
   "metadata": {},
   "source": [
    "i) Schreiben Sie ein Programm, welches das Gleichungssystem transformiert\n",
    "    a) über Householder-Orthogonalisierung,\n",
    "    b) mittels Givens-Rotation."
   ]
  },
  {
   "attachments": {},
   "cell_type": "markdown",
   "metadata": {},
   "source": [
    "ii)Schreiben Sie ein Programm, welches das reduzierte Gleichungssystem Rx = b1 löst."
   ]
  },
  {
   "cell_type": "code",
   "execution_count": null,
   "metadata": {},
   "outputs": [],
   "source": [
    "import numpy as np\n",
    "from numpy.linalg import qr\n",
    "from sympy import *"
   ]
  },
  {
   "cell_type": "code",
   "execution_count": null,
   "metadata": {},
   "outputs": [],
   "source": []
  },
  {
   "cell_type": "code",
   "execution_count": null,
   "metadata": {},
   "outputs": [],
   "source": []
  },
  {
   "attachments": {},
   "cell_type": "markdown",
   "metadata": {},
   "source": [
    "Aufgabe 4:"
   ]
  },
  {
   "attachments": {},
   "cell_type": "markdown",
   "metadata": {},
   "source": [
    "Schreiben Sie ein Skript, welches Ihre Implementierung aus Aufgabe 2 und 3 anhand anhand mehrerer\n",
    "Beispiele testet. Geben Sie zusätzlich jeweils das Residuum aus und vergleichen Sie Ihre\n",
    "Ergebnisse"
   ]
  },
  {
   "attachments": {},
   "cell_type": "markdown",
   "metadata": {},
   "source": []
  },
  {
   "attachments": {},
   "cell_type": "markdown",
   "metadata": {},
   "source": []
  }
 ],
 "metadata": {
  "kernelspec": {
   "display_name": "base",
   "language": "python",
   "name": "python3"
  },
  "language_info": {
   "codemirror_mode": {
    "name": "ipython",
    "version": 3
   },
   "file_extension": ".py",
   "mimetype": "text/x-python",
   "name": "python",
   "nbconvert_exporter": "python",
   "pygments_lexer": "ipython3",
   "version": "3.9.12"
  },
  "orig_nbformat": 4
 },
 "nbformat": 4,
 "nbformat_minor": 2
}
