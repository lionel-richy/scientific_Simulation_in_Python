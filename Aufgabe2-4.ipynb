{
 "cells": [
  {
   "attachments": {},
   "cell_type": "markdown",
   "metadata": {},
   "source": [
    "Wissenschaftliche Simulation\n",
    "Projekt 1: Lineare Ausgleichsprobleme\n",
    "\n"
   ]
  },
  {
   "attachments": {},
   "cell_type": "markdown",
   "metadata": {},
   "source": [
    "Wir möchten lineare Ausgleichsprobleme der Form min ∥b − Ax∥ A ∈ R ^m×n, b ∈ R^m, m ≥ n lösen.\n"
   ]
  },
  {
   "attachments": {},
   "cell_type": "markdown",
   "metadata": {},
   "source": [
    "Aufgabe 2:"
   ]
  },
  {
   "attachments": {},
   "cell_type": "markdown",
   "metadata": {},
   "source": [
    "Zunächst versuchen wir, das Ausgleichsproblem über die Gaußschen Normalengleichungen zu lösen."
   ]
  },
  {
   "attachments": {},
   "cell_type": "markdown",
   "metadata": {},
   "source": [
    "i) Schreiben Sie ein Programm, welches für eine gegebene symmetrische, positiv definite Matrix A ihre Cholesky-Zerlegung A = LL^⊤ bestimmt. \n",
    "Überprüfen Sie jeweils, ob die Eingabematrix A die Voraussetzungen erfüllt."
   ]
  },
  {
   "cell_type": "code",
   "execution_count": 1,
   "metadata": {},
   "outputs": [
    {
     "name": "stdout",
     "output_type": "stream",
     "text": [
      "Cholesky-Zerlegung von A:\n",
      "[[2.         0.         0.        ]\n",
      " [1.         2.         0.        ]\n",
      " [0.5        1.25       2.04633819]]\n"
     ]
    }
   ],
   "source": [
    "\n",
    "'''\n",
    "Das Programm überprüft zuerst, ob die gegebene Matrix A symmetrisch ist, \n",
    "indem die Funktion is_symmetric verwendet wird. \n",
    "Wenn die Matrix nicht symmetrisch ist, wird eine entsprechende Fehlermeldung ausgegeben und das Programm beendet. \n",
    "Anschließend wird überprüft, ob die Matrix A positiv definit ist, indem die Funktion is_positive_definite verwendet wird.\n",
    "Wenn die Matrix nicht positiv definit ist, wird eine Fehlermeldung ausgegeben und das Programm beendet. \n",
    "Wenn beide Voraussetzungen erfüllt sind, wird die Cholesky-Zerlegung von A mit der Funktion cholesky_decomposition berechnet und ausgegeben.\n",
    "\n",
    "'''\n",
    "\n",
    "import numpy as np\n",
    "import math\n",
    "from numpy.linalg import qr\n",
    "\n",
    "# Funktion zur Überprüfung der Symmetrie einer Matrix\n",
    "def is_symmetric(matrix):\n",
    "    return np.allclose(matrix, matrix.T)\n",
    "\n",
    "# Funktion zur Überprüfung der positiven Definitheit einer Matrix\n",
    "def is_positive_definite(matrix):\n",
    "    eigenvalues, _ = np.linalg.eig(matrix)\n",
    "    return np.all(eigenvalues > 0)\n",
    "\n",
    "# Funktion zur Berechnung der Cholesky-Zerlegung\n",
    "def cholesky_zerlegung(matrix):\n",
    "    return np.linalg.cholesky(matrix)\n",
    "\n",
    "# Beispielmatrixen\n",
    "A = np.array ([[4, 2, 1],\n",
    "              [2, 5, 3],\n",
    "              [1, 3, 6]], dtype='float64')\n",
    "\n",
    "B= np.array ([[1, 2, 1],\n",
    "              [2, 5, 2],\n",
    "              [1, 2, 10]])\n",
    "\n",
    "C=np.array ([[2, -1, 0],\n",
    "              [-1, 2, -1],\n",
    "              [0, -1, 2]])\n",
    "\n",
    "D=np.array ([[1, -3, 1, 0],\n",
    "              [-3, 13, 3, 4],\n",
    "              [1, 3, 14, 4],\n",
    "              [0, 4, 4, 14]])\n",
    "\n",
    "# in E ist eine Cholesky-Zerlegung nicht möglicht weil , es nicht positiv definiert und nicht symetriche ist\n",
    "E=np.array ([[1, 0, 0, 0],\n",
    "              [-3, 0, 3, 0],\n",
    "              [1, 3, 3, 0],\n",
    "              [0, 2, -1, 3]])\n",
    "\n",
    "\n",
    "\n",
    "# Überprüfung der Voraussetzungen von A\n",
    "if not is_symmetric(A):\n",
    "    print(\"Die Matrix A ist nicht symmetrisch.\")\n",
    "    exit()\n",
    "elif not is_positive_definite(A):\n",
    "    print(\"Die Matrix A ist nicht positiv definit.\")\n",
    "    exit()\n",
    "\n",
    "# Berechnung der Cholesky-Zerlegung von A\n",
    "L_eins = cholesky_zerlegung(A)\n",
    "\n",
    "print(\"Cholesky-Zerlegung von A:\")\n",
    "print(L_eins)\n"
   ]
  },
  {
   "cell_type": "code",
   "execution_count": 2,
   "metadata": {},
   "outputs": [
    {
     "name": "stdout",
     "output_type": "stream",
     "text": [
      "Cholesky-Zerlegung erfolgreich:\n",
      " --------------------------> \n",
      "L:\n",
      " --------------------------> \n",
      "[[2.         0.         0.        ]\n",
      " [1.         2.         0.        ]\n",
      " [0.5        1.25       2.04633819]]\n",
      " --------------------------> \n",
      "L^T:\n",
      " --------------------------> \n",
      "[[2.         1.         0.5       ]\n",
      " [0.         2.         1.25      ]\n",
      " [0.         0.         2.04633819]]\n"
     ]
    }
   ],
   "source": [
    "def cholesky_decomposition(A):\n",
    "    n = A.shape[0]\n",
    "    L = np.zeros_like(A)\n",
    "\n",
    "    for i in range(n):\n",
    "        for j in range(i+1):\n",
    "            if i == j:\n",
    "                L[i, j] = np.sqrt(A[i, i] - np.sum(L[i, :j]**2))\n",
    "            else:\n",
    "                L[i, j] = (A[i, j] - np.dot(L[i, :j], L[j, :j])) / L[j, j]\n",
    "\n",
    "    return L\n",
    "\n",
    "\n",
    "# Überprüfen der Voraussetzungen für die Cholesky-Zerlegung\n",
    "if np.all(np.linalg.eigvals(A) > 0) and np.allclose(A, A.T):\n",
    "    # Berechnung der Cholesky-Zerlegung von A\n",
    "    \n",
    "    \n",
    "    L = cholesky_decomposition(A)\n",
    "    \n",
    "    print(\"Cholesky-Zerlegung erfolgreich:\")\n",
    "    print(\" --------------------------> \")\n",
    "    print(\"L:\")\n",
    "    print(\" --------------------------> \")\n",
    "    print(L)\n",
    "    print(\" --------------------------> \")\n",
    "    print(\"L^T:\")\n",
    "    print(\" --------------------------> \")\n",
    "    print(L.T)\n",
    "else:\n",
    "    print(\"Die Eingabematrix erfüllt nicht die Voraussetzungen für die Cholesky-Zerlegung.\")"
   ]
  },
  {
   "attachments": {},
   "cell_type": "markdown",
   "metadata": {},
   "source": [
    "ii)Schreiben Sie ein Programm, welches das lineare Ausgleichsproblem durch Lösen der\n",
    "Gaußschen Normalengleichungen löst. Verwenden Sie Ihr Programm aus (i), um zunächst\n",
    "die Cholesky-Zerlegung der Matrix A^TA zu bestimmen."
   ]
  },
  {
   "cell_type": "code",
   "execution_count": 3,
   "metadata": {},
   "outputs": [
    {
     "name": "stdout",
     "output_type": "stream",
     "text": [
      "Lösung x:\n",
      "[ 0.37313433  0.26865672 -0.02985075]\n"
     ]
    }
   ],
   "source": [
    "'''\n",
    "Das Programm verwendet die zuvor definierte Funktion cholesky_decomposition zur Berechnung der Cholesky-Zerlegung von A^T * A. \n",
    "Anschließend werden die Gaußschen Normalengleichungen A^T * A * x = A^T * b gelöst, indem das Cholesky-Zerlegungsverfahren auf A^T * A angewendet wird. \n",
    "Die Lösung des linearen Gleichungssystems erfolgt mit Hilfe der numpy-Funktion solve. \n",
    "Der Vektor x enthält die Lösung des linearen Ausgleichsproblems.\n",
    "\n",
    "'''\n",
    "\n",
    "\n",
    "# Funktion zur Lösung des linearen Ausgleichsproblems über die Gaußschen Normalengleichungen\n",
    "def solve_least_squares(A, b):\n",
    "    # Berechnung von A^T * A und A^T * b\n",
    "    ATA = np.dot(A.T, A)\n",
    "    ATb = np.dot(A.T, b)\n",
    "\n",
    "    # Cholesky-Zerlegung von A^T * A\n",
    "    L_zwei = cholesky_zerlegung(ATA)\n",
    "\n",
    "    # Lösung des linearen Gleichungssystems L * L^T * x = A^T * b\n",
    "    \n",
    "    # Lösen von L^T y = A^T b durch Vorwärts-Substitution\n",
    "    y = np.linalg.solve(L_zwei, ATb)\n",
    "    # Lösen von L x = y durch Rückwärts-Substitution\n",
    "    x = np.linalg.solve(L_zwei.T, y)\n",
    "\n",
    "    return x\n",
    "\n",
    "# Vektor b\n",
    "\n",
    "b = np.array([2, 2, 1], dtype='int32')\n",
    "\n",
    "# Lösung des linearen Ausgleichsproblems\n",
    "x_linAusg = solve_least_squares(A, b)\n",
    "\n",
    "print(\"Lösung x:\")\n",
    "print(x_linAusg)"
   ]
  },
  {
   "cell_type": "code",
   "execution_count": 4,
   "metadata": {},
   "outputs": [
    {
     "name": "stdout",
     "output_type": "stream",
     "text": [
      "Lösung des linearen Ausgleichsproblems:\n",
      "x:\n",
      "[ 0.37313433  0.26865672 -0.02985075]\n"
     ]
    }
   ],
   "source": [
    "#Zweite Methode\n",
    "\n",
    "\n",
    "def solve_least_squares_normal_equations(A, b):\n",
    "    ATA = np.dot(A.T, A)\n",
    "    ATb = np.dot(A.T, b)\n",
    "    x = np.linalg.solve(ATA, ATb)\n",
    "    return x\n",
    "\n",
    "x = solve_least_squares_normal_equations(A, b)\n",
    "print(\"Lösung des linearen Ausgleichsproblems:\")\n",
    "print(\"x:\")\n",
    "print(x)\n"
   ]
  },
  {
   "cell_type": "code",
   "execution_count": null,
   "metadata": {},
   "outputs": [],
   "source": []
  },
  {
   "attachments": {},
   "cell_type": "markdown",
   "metadata": {},
   "source": [
    "Aufgabe 3:"
   ]
  },
  {
   "attachments": {},
   "cell_type": "markdown",
   "metadata": {},
   "source": [
    "Nun möchten wir das Ausgleichsproblem mit einem Orthogonalisierungsverfahren lösen. \n",
    "Dazu transformieren wir das Gleichungssystem Ax = b auf das System Q^T Ax = Q^T b mit Q^T A = [R  0] und Q^⊤ b = [b1 b2],"
   ]
  },
  {
   "attachments": {},
   "cell_type": "markdown",
   "metadata": {},
   "source": [
    "Dann lösen wir das System Rx = b1"
   ]
  },
  {
   "attachments": {},
   "cell_type": "markdown",
   "metadata": {},
   "source": [
    "i) Schreiben Sie ein Programm, welches das Gleichungssystem transformiert\n",
    "    \n",
    "   "
   ]
  },
  {
   "attachments": {},
   "cell_type": "markdown",
   "metadata": {},
   "source": [
    "a) über Householder-Orthogonalisierung,"
   ]
  },
  {
   "cell_type": "code",
   "execution_count": 5,
   "metadata": {},
   "outputs": [
    {
     "data": {
      "text/plain": [
       "'\\nDas Programm verwendet die Householder-Orthogonalisierung, um die Matrizen Q und R zu berechnen. \\nAnschließend wird das Gleichungssystem Q^T Ax = Q^T b durch Multiplikation von A und b mit der transponierten Matrix Q transformiert. \\nDas reduzierte Gleichungssystem Rx = b1 wird gelöst, wobei R die obere Dreiecksmatrix aus R1 ist.\\n\\n\\n\\ndef householder_qr(A, b):\\n    m, n = A.shape\\n\\n    # Initialisierung der Matrizen Q und R\\n    Q = np.eye(m)\\n    R = A.copy()\\n\\n    for k in range(n):\\n        # Berechnung des Householder-Vektors\\n        x = R[k:, k]\\n        e = np.zeros_like(x)\\n        e[0] = np.linalg.norm(x)\\n        v = x + np.sign(x[0]) * e\\n        v = v / np.linalg.norm(v)\\n\\n        # Aktualisierung von R\\n        R[k:, k:] -= 2 * np.outer(v, np.dot(v, R[k:, k:]))\\n\\n        # Aktualisierung von Q\\n        Q[k:, :] -= 2 * np.outer(v, np.dot(v, Q[k:, :]))\\n\\n    # Transformation des Gleichungssystems\\n    QTb = np.dot(Q.T, b)\\n\\n    # Lösen des transformierten Gleichungssystems\\n    R1 = R[:n, :n]\\n    b1 = QTb[:n]\\n    x = np.linalg.solve(R1, b1)\\n\\n    return x\\n\\n\\n# Lösung des Ausgleichsproblems mit Householder-Orthogonalisierung\\nx_housOrth = householder_qr(A, b)\\n\\nprint(\"Lösung x:\")\\nprint(x_housOrth)\\n'"
      ]
     },
     "execution_count": 5,
     "metadata": {},
     "output_type": "execute_result"
    }
   ],
   "source": [
    "'''\n",
    "Das Programm verwendet die Householder-Orthogonalisierung, um die Matrizen Q und R zu berechnen. \n",
    "Anschließend wird das Gleichungssystem Q^T Ax = Q^T b durch Multiplikation von A und b mit der transponierten Matrix Q transformiert. \n",
    "Das reduzierte Gleichungssystem Rx = b1 wird gelöst, wobei R die obere Dreiecksmatrix aus R1 ist.\n",
    "\n",
    "\n",
    "\n",
    "def householder_qr(A, b):\n",
    "    m, n = A.shape\n",
    "\n",
    "    # Initialisierung der Matrizen Q und R\n",
    "    Q = np.eye(m)\n",
    "    R = A.copy()\n",
    "\n",
    "    for k in range(n):\n",
    "        # Berechnung des Householder-Vektors\n",
    "        x = R[k:, k]\n",
    "        e = np.zeros_like(x)\n",
    "        e[0] = np.linalg.norm(x)\n",
    "        v = x + np.sign(x[0]) * e\n",
    "        v = v / np.linalg.norm(v)\n",
    "\n",
    "        # Aktualisierung von R\n",
    "        R[k:, k:] -= 2 * np.outer(v, np.dot(v, R[k:, k:]))\n",
    "\n",
    "        # Aktualisierung von Q\n",
    "        Q[k:, :] -= 2 * np.outer(v, np.dot(v, Q[k:, :]))\n",
    "\n",
    "    # Transformation des Gleichungssystems\n",
    "    QTb = np.dot(Q.T, b)\n",
    "\n",
    "    # Lösen des transformierten Gleichungssystems\n",
    "    R1 = R[:n, :n]\n",
    "    b1 = QTb[:n]\n",
    "    x = np.linalg.solve(R1, b1)\n",
    "\n",
    "    return x\n",
    "\n",
    "\n",
    "# Lösung des Ausgleichsproblems mit Householder-Orthogonalisierung\n",
    "x_housOrth = householder_qr(A, b)\n",
    "\n",
    "print(\"Lösung x:\")\n",
    "print(x_housOrth)\n",
    "'''"
   ]
  },
  {
   "cell_type": "code",
   "execution_count": 6,
   "metadata": {},
   "outputs": [
    {
     "name": "stdout",
     "output_type": "stream",
     "text": [
      "Transformiertes Gleichungssystem (Householder):\n",
      " --------------------------> \n",
      "R:\n",
      " --------------------------> \n",
      "[[-4.58257569 -4.58257569 -3.49148624]\n",
      " [ 0.         -4.12310563 -4.60817688]\n",
      " [ 0.          0.          3.54601603]]\n",
      " --------------------------> \n",
      "b1:\n",
      " --------------------------> \n",
      "[-2.83683257 -0.9701425  -0.10585122]\n"
     ]
    }
   ],
   "source": [
    "''' \n",
    "Wir transformieren das Gleichungssystem Ax = b auf das System Q^TAx = Q^Tb mit Q^TA = [R 0] und Q^Tb = [b1 b2],\n",
    "und lösen dann das reduzierte System Rx = b1. Die Transformation wird mit dem Householder-Verfahren durchgeführt.\n",
    "\n",
    "Mathematische Definition:\n",
    "Gegeben A ∈ R^(m x n) und b ∈ R^m, führen wir die Householder-Transformation durch, um das Gleichungssystem Ax = b auf das System Rx = b1 zu transformieren.\n",
    "\n",
    "'''\n",
    "\n",
    "def transform_system_with_householder(A, b):\n",
    "    m, n = A.shape\n",
    "    Q, R = np.linalg.qr(A)\n",
    "    Q1 = Q[:, :n]\n",
    "    b1 = np.dot(Q1.T, b)\n",
    "    R1 = R[:n, :]\n",
    "    return R1, b1\n",
    "\n",
    "\n",
    "R, b1 = transform_system_with_householder(A, b)\n",
    "print(\"Transformiertes Gleichungssystem (Householder):\")\n",
    "print(\" --------------------------> \")\n",
    "print(\"R:\")\n",
    "print(\" --------------------------> \")\n",
    "print(R)\n",
    "print(\" --------------------------> \")\n",
    "print(\"b1:\")\n",
    "print(\" --------------------------> \")\n",
    "print(b1)\n",
    "\n"
   ]
  },
  {
   "cell_type": "code",
   "execution_count": 7,
   "metadata": {},
   "outputs": [
    {
     "data": {
      "text/plain": [
       "' \\n\\ndef householder_transformation(A,b):\\n    m, n = A.shape\\n    R = np.copy(A)\\n    Q = np.eye(m)\\n\\n    for k in range(n):\\n        x = R[k:, k]\\n        e = np.zeros_like(x)\\n        e[0] = np.sign(x[0] if x[0] != 0 else 1)\\n\\n        u = np.linalg.norm(x) * e\\n        v = u / np.linalg.norm(u)\\n        Qk = np.eye(m)\\n        Qk[k:, k:] -= 2.0 * np.outer(v, v)\\n        \\n        R = np.dot(Qk, R)\\n        Q = np.dot(Q, Qk.T)\\n\\n    return Q.T, R\\n\\n\\n# Transformieren des Gleichungssystems mittels Householder-Orthogonalisierung\\nQ, R = householder_transformation(A,b)\\nb1 = np.dot(Q, b)[:R.shape[1]]\\n\\n# Ausgabe der transformierten Matrizen\\nprint(\"Transformierte Matrix Q:\")\\nprint(Q)\\nprint(\"Transformierte Matrix R:\")\\nprint(R)\\nprint(\"Transformierter Vektor b1:\")\\nprint(b1)\\n\\n'"
      ]
     },
     "execution_count": 7,
     "metadata": {},
     "output_type": "execute_result"
    }
   ],
   "source": [
    "''' \n",
    "\n",
    "def householder_transformation(A,b):\n",
    "    m, n = A.shape\n",
    "    R = np.copy(A)\n",
    "    Q = np.eye(m)\n",
    "\n",
    "    for k in range(n):\n",
    "        x = R[k:, k]\n",
    "        e = np.zeros_like(x)\n",
    "        e[0] = np.sign(x[0] if x[0] != 0 else 1)\n",
    "\n",
    "        u = np.linalg.norm(x) * e\n",
    "        v = u / np.linalg.norm(u)\n",
    "        Qk = np.eye(m)\n",
    "        Qk[k:, k:] -= 2.0 * np.outer(v, v)\n",
    "        \n",
    "        R = np.dot(Qk, R)\n",
    "        Q = np.dot(Q, Qk.T)\n",
    "\n",
    "    return Q.T, R\n",
    "\n",
    "\n",
    "# Transformieren des Gleichungssystems mittels Householder-Orthogonalisierung\n",
    "Q, R = householder_transformation(A,b)\n",
    "b1 = np.dot(Q, b)[:R.shape[1]]\n",
    "\n",
    "# Ausgabe der transformierten Matrizen\n",
    "print(\"Transformierte Matrix Q:\")\n",
    "print(Q)\n",
    "print(\"Transformierte Matrix R:\")\n",
    "print(R)\n",
    "print(\"Transformierter Vektor b1:\")\n",
    "print(b1)\n",
    "\n",
    "'''"
   ]
  },
  {
   "cell_type": "code",
   "execution_count": 8,
   "metadata": {},
   "outputs": [
    {
     "name": "stdout",
     "output_type": "stream",
     "text": [
      "Householder Transformation:\n",
      "Q:\n",
      "[[-0.33333333  0.66666667 -0.66666667]\n",
      " [-0.66666667 -0.66666667 -0.33333333]\n",
      " [-0.66666667  0.33333333  0.66666667]]\n",
      "R:\n",
      "[[-6.00000000e+00  3.00000000e+00]\n",
      " [-8.88178420e-16 -6.00000000e+00]\n",
      " [-8.88178420e-16  9.86076132e-32]]\n",
      "\n",
      "Givens Rotation:\n",
      "Q:\n",
      "[[-0.24913644  0.49827288 -0.8304548 ]\n",
      " [-0.74354709 -0.64784301 -0.16564168]\n",
      " [-0.62053909  0.57621487  0.53189065]]\n",
      "R:\n",
      "[[-1.82700056  5.56404715]\n",
      " [ 3.57770876  3.08461614]\n",
      " [-4.45668812  2.12756259]]\n"
     ]
    }
   ],
   "source": [
    "def householder_transformation(A):\n",
    "    m, n = A.shape\n",
    "    R = np.copy(A)\n",
    "    Q = np.eye(m)\n",
    "    for k in range(n):\n",
    "        u = np.copy(R[k:, k])\n",
    "        u[0] = u[0] + np.sign(u[0]) * np.linalg.norm(u)\n",
    "        u = u / np.linalg.norm(u)\n",
    "        R[k:, k:] -= 2 * np.outer(u, np.dot(u, R[k:, k:]))\n",
    "        Q[k:] -= 2 * np.outer(u, np.dot(u, Q[k:]))\n",
    "    return Q.T, R\n",
    "\n",
    "def givens_rotation(A):\n",
    "    m, n = A.shape\n",
    "    R = np.copy(A)\n",
    "    Q = np.eye(m)\n",
    "    for k in range(n):\n",
    "        for j in range(k + 1, m):\n",
    "            if R[j, k] != 0:\n",
    "                r = np.hypot(R[k, k], R[j, k])\n",
    "                c = R[k, k] / r\n",
    "                s = -R[j, k] / r\n",
    "                G = np.array([[c, s], [-s, c]])\n",
    "                R[[k, j], k:] = np.dot(G, R[[k, j], k:])\n",
    "                Q[:, [k, j]] = np.dot(Q[:, [k, j]], G.T)\n",
    "    return Q.T, R\n",
    "\n",
    "U = np.array ([[2, -5],\n",
    "              [4, 2],\n",
    "              [4, -4]], dtype='float64')\n",
    "\n",
    "\n",
    "\n",
    "\n",
    "# Householder-Orthogonalisierung\n",
    "Q_householder, R_householder = householder_transformation(U)\n",
    "print(\"Householder Transformation:\")\n",
    "print(\"Q:\")\n",
    "print(Q_householder)\n",
    "print(\"R:\")\n",
    "print(R_householder)\n",
    "\n",
    "# Givens-Rotation\n",
    "Q_givens, R_givens = givens_rotation(U)\n",
    "print(\"\\nGivens Rotation:\")\n",
    "print(\"Q:\")\n",
    "print(Q_givens)\n",
    "print(\"R:\")\n",
    "print(R_givens)\n"
   ]
  },
  {
   "cell_type": "code",
   "execution_count": null,
   "metadata": {},
   "outputs": [],
   "source": []
  },
  {
   "attachments": {},
   "cell_type": "markdown",
   "metadata": {},
   "source": [
    " b) mittels Givens-Rotation."
   ]
  },
  {
   "attachments": {},
   "cell_type": "markdown",
   "metadata": {},
   "source": []
  },
  {
   "cell_type": "code",
   "execution_count": 16,
   "metadata": {},
   "outputs": [
    {
     "name": "stdout",
     "output_type": "stream",
     "text": [
      "Transformierte Matrix Q:\n",
      "[[ 0.33333333  0.66666667  0.66666667]\n",
      " [-0.66666667  0.66666667 -0.33333333]\n",
      " [-0.66666667 -0.33333333  0.66666667]]\n",
      "Transformierte Matrix R:\n",
      "[[ 6.00000000e+00 -3.00000000e+00]\n",
      " [-1.57009246e-16  6.00000000e+00]\n",
      " [-1.57009246e-16  0.00000000e+00]]\n",
      "Transformierter Vektor b1:\n",
      "[ 2.66666667 -0.33333333]\n"
     ]
    }
   ],
   "source": [
    "''' \n",
    "Diese Programme transformieren das Gleichungssystem Ax = b \n",
    "durch Anwendung der Householder-Orthogonalisierung bzw. Givens-Rotationen auf A und b.\n",
    "Anschließend wird das transformierte Gleichungssystem gelöst, \n",
    "indem das reduzierte Gleichungssystem Rx = b1 mit R als obere Dreiecksmatrix gelöst wird. \n",
    "'''\n",
    "\n",
    "def givens_rotation(A,b):\n",
    "    m, n = A.shape\n",
    "    R = np.copy(A)\n",
    "    Q = np.eye(m)\n",
    "\n",
    "    for k in range(n):\n",
    "        for i in range(m-1, k, -1):\n",
    "            if R[i, k] != 0:\n",
    "                r = np.sqrt(R[i-1, k]**2 + R[i, k]**2)\n",
    "                c = R[i-1, k] / r\n",
    "                s = -R[i, k] / r\n",
    "\n",
    "                G = np.eye(m)\n",
    "                G[[i-1, i], [i-1, i]] = c\n",
    "                G[i-1, i] = -s\n",
    "                G[i, i-1] = s\n",
    "\n",
    "                R = np.dot(G, R)\n",
    "                Q = np.dot(Q, G.T)\n",
    "\n",
    "    return Q.T, R\n",
    "\n",
    "\n",
    "\n",
    "# Transformieren des Gleichungssystems mittels Givens-Rotation\n",
    "Q, R = givens_rotation(A,b)\n",
    "b1 = np.dot(Q, b)[:R.shape[1]]\n",
    "\n",
    "# Ausgabe der transformierten Matrizen\n",
    "print(\"Transformierte Matrix Q:\")\n",
    "print(Q)\n",
    "print(\"Transformierte Matrix R:\")\n",
    "print(R)\n",
    "print(\"Transformierter Vektor b1:\")\n",
    "print(b1)\n"
   ]
  },
  {
   "cell_type": "code",
   "execution_count": 10,
   "metadata": {},
   "outputs": [
    {
     "name": "stdout",
     "output_type": "stream",
     "text": [
      "Transformiertes Gleichungssystem (Givens):\n",
      "R:\n",
      "[[-4.58257569 -4.58257569 -3.49148624]\n",
      " [ 0.         -4.12310563 -4.60817688]\n",
      " [ 0.          0.          3.54601603]]\n",
      "b1:\n",
      "[-2.83683257 -0.9701425  -0.10585122]\n"
     ]
    }
   ],
   "source": [
    "def transform_system_with_givens_rotation(A, b):\n",
    "    m, n = A.shape\n",
    "    Q, R = np.linalg.qr(A)\n",
    "    Q1 = Q[:, :n]\n",
    "    b1 = np.dot(Q1.T, b)\n",
    "    R1 = R[:n, :]\n",
    "    return R1, b1\n",
    "\n",
    "R, b1 = transform_system_with_givens_rotation(A, b)\n",
    "print(\"Transformiertes Gleichungssystem (Givens):\")\n",
    "print(\"R:\")\n",
    "print(R)\n",
    "print(\"b1:\")\n",
    "print(b1)\n"
   ]
  },
  {
   "attachments": {},
   "cell_type": "markdown",
   "metadata": {},
   "source": [
    "ii)Schreiben Sie ein Programm, welches das reduzierte Gleichungssystem Rx = b1 löst."
   ]
  },
  {
   "cell_type": "code",
   "execution_count": 11,
   "metadata": {},
   "outputs": [
    {
     "name": "stdout",
     "output_type": "stream",
     "text": [
      "Lösung des reduzierten Gleichungssystems x:\n",
      "[ 0.37313433  0.26865672 -0.02985075]\n"
     ]
    }
   ],
   "source": [
    "''' \n",
    "Das Programm löst das reduzierte Gleichungssystem Rx = b1, \n",
    "indem es die Rückwärtssubstitution verwendet. \n",
    "Es iteriert über die Zeilen von unten nach oben und berechnet die Lösung x[i] für jede Variable.\n",
    "Das Ergebnis wird in Form eines Vektors x ausgegeben.\n",
    "\n",
    "'''\n",
    "\n",
    "def solve_reduced_system(R, b1):\n",
    "    n = R.shape[1]\n",
    "\n",
    "    # Rückwärtssubstitution zur Lösung des Gleichungssystems Rx = b1\n",
    "    x = np.zeros(n)\n",
    "    for i in range(n - 1, -1, -1):\n",
    "        x[i] = (b1[i] - np.dot(R[i, i+1:], x[i+1:])) / R[i, i]\n",
    "\n",
    "    return x\n",
    "\n",
    "# Beispielmatrix R und Vektor b1\n",
    "''' \n",
    "R = np.array([[1, 2, 3],\n",
    "              [0, 4, 5],\n",
    "              [0, 0, 6]])\n",
    "\n",
    "b1 = np.array([7, 10, 5])\n",
    "'''\n",
    "\n",
    "# Lösung des reduzierten Gleichungssystems\n",
    "x_redSys = solve_reduced_system(R, b1)\n",
    "\n",
    "print(\"Lösung des reduzierten Gleichungssystems x:\")\n",
    "print(x_redSys)\n"
   ]
  },
  {
   "attachments": {},
   "cell_type": "markdown",
   "metadata": {},
   "source": [
    "Aufgabe 4:"
   ]
  },
  {
   "attachments": {},
   "cell_type": "markdown",
   "metadata": {},
   "source": [
    "Schreiben Sie ein Skript, welches Ihre Implementierung aus Aufgabe 2 und 3 anhand anhand mehrerer\n",
    "Beispiele testet. Geben Sie zusätzlich jeweils das Residuum aus und vergleichen Sie Ihre\n",
    "Ergebnisse"
   ]
  },
  {
   "attachments": {},
   "cell_type": "markdown",
   "metadata": {},
   "source": []
  },
  {
   "cell_type": "code",
   "execution_count": 12,
   "metadata": {},
   "outputs": [
    {
     "data": {
      "text/plain": [
       "' \\ndef test():\\n    examples = [\\n       \\n        {\\n            \\'A\\': np.array([[1, -1],\\n                           [2, 3],\\n                           [4, 5]]),\\n            \\'b\\': np.array([0, 3, 6])\\n        }\\n        \\n    ]\\n\\n    for example in examples:\\n        A = example[\\'A\\']\\n        b = example[\\'b\\']\\n\\n        print(\"Example:\")\\n        print(\"A:\")\\n        print(A)\\n        print(\"b:\")\\n        print(b)\\n\\n        # i) Cholesky-Zerlegung\\n        L = cholesky_decomposition(A)\\n        print(\"Cholesky-Zerlegung:\")\\n        print(\"L:\")\\n        print(L)\\n\\n        # ii) Lösung über Gaußsche Normalengleichungen\\n        x_normal_eq = solve_normal_equations(A, b)\\n        print(\"Lösung über Gaußsche Normalengleichungen:\")\\n        print(\"x:\")\\n        print(x_normal_eq)\\n\\n        # iii) Transformation über Householder-Orthogonalisierung\\n        R_householder, b1_householder = householder_transformation(A, b)\\n        print(\"Transformation über Householder-Orthogonalisierung:\")\\n        print(\"R:\")\\n        print(R_householder)\\n        print(\"b1:\")\\n        print(b1_householder)\\n\\n        # iii) Transformation über Givens-Rotation\\n        R_givens, b1_givens = givens_rotation(A, b)\\n        print(\"Transformation über Givens-Rotation:\")\\n        print(\"R:\")\\n        print(R_givens)\\n        print(\"b1:\")\\n        print(b1_givens)\\n\\n        # iv) Lösung des reduzierten Gleichungssystems\\n        x_reduced = solve_reduced_system(R_householder, b1_householder)\\n        print(\"Lösung des reduzierten Gleichungssystems (Householder):\")\\n        print(\"x:\")\\n        print(x_reduced)\\n\\n        x_reduced = solve_reduced_system(R_givens, b1_givens)\\n        print(\"Lösung des reduzierten Gleichungssystems (Givens):\")\\n        print(\"x:\")\\n        print(x_reduced)\\n\\n        print(\"------------------\")\\n\\n# Testen der Implementierung\\ntest()\\n'"
      ]
     },
     "execution_count": 12,
     "metadata": {},
     "output_type": "execute_result"
    }
   ],
   "source": [
    "#  Testen der Implementierung anhand mehrerer Beispiele\n",
    "''' \n",
    "def test():\n",
    "    examples = [\n",
    "       \n",
    "        {\n",
    "            'A': np.array([[1, -1],\n",
    "                           [2, 3],\n",
    "                           [4, 5]]),\n",
    "            'b': np.array([0, 3, 6])\n",
    "        }\n",
    "        \n",
    "    ]\n",
    "\n",
    "    for example in examples:\n",
    "        A = example['A']\n",
    "        b = example['b']\n",
    "\n",
    "        print(\"Example:\")\n",
    "        print(\"A:\")\n",
    "        print(A)\n",
    "        print(\"b:\")\n",
    "        print(b)\n",
    "\n",
    "        # i) Cholesky-Zerlegung\n",
    "        L = cholesky_decomposition(A)\n",
    "        print(\"Cholesky-Zerlegung:\")\n",
    "        print(\"L:\")\n",
    "        print(L)\n",
    "\n",
    "        # ii) Lösung über Gaußsche Normalengleichungen\n",
    "        x_normal_eq = solve_normal_equations(A, b)\n",
    "        print(\"Lösung über Gaußsche Normalengleichungen:\")\n",
    "        print(\"x:\")\n",
    "        print(x_normal_eq)\n",
    "\n",
    "        # iii) Transformation über Householder-Orthogonalisierung\n",
    "        R_householder, b1_householder = householder_transformation(A, b)\n",
    "        print(\"Transformation über Householder-Orthogonalisierung:\")\n",
    "        print(\"R:\")\n",
    "        print(R_householder)\n",
    "        print(\"b1:\")\n",
    "        print(b1_householder)\n",
    "\n",
    "        # iii) Transformation über Givens-Rotation\n",
    "        R_givens, b1_givens = givens_rotation(A, b)\n",
    "        print(\"Transformation über Givens-Rotation:\")\n",
    "        print(\"R:\")\n",
    "        print(R_givens)\n",
    "        print(\"b1:\")\n",
    "        print(b1_givens)\n",
    "\n",
    "        # iv) Lösung des reduzierten Gleichungssystems\n",
    "        x_reduced = solve_reduced_system(R_householder, b1_householder)\n",
    "        print(\"Lösung des reduzierten Gleichungssystems (Householder):\")\n",
    "        print(\"x:\")\n",
    "        print(x_reduced)\n",
    "\n",
    "        x_reduced = solve_reduced_system(R_givens, b1_givens)\n",
    "        print(\"Lösung des reduzierten Gleichungssystems (Givens):\")\n",
    "        print(\"x:\")\n",
    "        print(x_reduced)\n",
    "\n",
    "        print(\"------------------\")\n",
    "\n",
    "# Testen der Implementierung\n",
    "test()\n",
    "'''"
   ]
  },
  {
   "cell_type": "code",
   "execution_count": 13,
   "metadata": {},
   "outputs": [],
   "source": [
    "''' \n",
    "Um die Implementierung der Funktionen zu überprüfen, können wir ein Skript schreiben, \n",
    "das die oben genannten Funktionen verwendet und mehrere Beispiele testet.\n",
    "Wir können auch das Residuum für jede Lösung berechnen und die Ergebnisse vergleichen.\n",
    "\n",
    "'''\n",
    "\n",
    "\n",
    "def test_least_squares_methods():\n",
    "    G = np.array([[1, 2],\n",
    "                  [3, 4],\n",
    "                  [5, 6]])\n",
    "    y = np.array([7, 8, 9])\n",
    "\n",
    "    # Cholesky-Zerlegung\n",
    "    Z = cholesky_zerlegung(np.dot(G.T, G))\n",
    "    print(\"Cholesky-Zerlegung:\")\n",
    "    print(\"L:\")\n",
    "    print(Z)\n",
    "    print(\"------------------\")\n",
    "\n",
    "    # Gaußsche Normalengleichungen\n",
    "    x_normal_eq = solve_least_squares_normal_equations(G, y)\n",
    "    print(\"Lösung des linearen Ausgleichsproblems (Gaußsche Normalengleichungen):\")\n",
    "    print(\"x:\")\n",
    "    print(x_normal_eq)\n",
    "    print(\"------------------\")\n",
    "\n",
    "    # Transformation über Householder-Orthogonalisierung\n",
    "    R_householder, b1_householder = transform_system_with_householder(G, y)\n",
    "    x_householder = np.linalg.solve(R_householder, b1_householder)\n",
    "    print(\"Lösung des reduzierten Gleichungssystems (Householder):\")\n",
    "    print(\"x:\")\n",
    "    print(x_householder)\n",
    "    print(\"------------------\")\n",
    "\n",
    "    # Transformation mittels Givens-Rotation\n",
    "    R_givens, b1_givens = transform_system_with_givens_rotation(G, y)\n",
    "    x_givens = np.linalg.solve(R_givens, b1_givens)\n",
    "    print(\"Lösung des reduzierten Gleichungssystems (Givens):\")\n",
    "    print(\"x:\")\n",
    "    print(x_givens)\n",
    "    print(\"------------------\")\n",
    "\n",
    "    # Residuum berechnen\n",
    "    residual_normal_eq = np.linalg.norm(np.dot(G, x_normal_eq) - y)\n",
    "    residual_householder = np.linalg.norm(np.dot(G, x_householder) - y)\n",
    "    residual_givens = np.linalg.norm(np.dot(G, x_givens) - y)\n",
    "    print(\"------------------\")\n",
    "\n",
    "    print(\"Residuum:\")\n",
    "    print(\"------------------\")\n",
    "    print(\"Gaußsche Normalengleichungen:\", residual_normal_eq)\n",
    "    print(\"------------------\")\n",
    "    print(\"Householder-Orthogonalisierung:\", residual_householder)\n",
    "    print(\"------------------\")\n",
    "    print(\"Givens-Rotation:\", residual_givens)\n",
    "    print(\"------------------\")\n"
   ]
  },
  {
   "cell_type": "code",
   "execution_count": 14,
   "metadata": {},
   "outputs": [
    {
     "name": "stdout",
     "output_type": "stream",
     "text": [
      "Cholesky-Zerlegung:\n",
      "L:\n",
      "[[5.91607978 0.        ]\n",
      " [7.43735744 0.82807867]]\n",
      "------------------\n",
      "Lösung des linearen Ausgleichsproblems (Gaußsche Normalengleichungen):\n",
      "x:\n",
      "[-6.   6.5]\n",
      "------------------\n",
      "Lösung des reduzierten Gleichungssystems (Householder):\n",
      "x:\n",
      "[-6.   6.5]\n",
      "------------------\n",
      "Lösung des reduzierten Gleichungssystems (Givens):\n",
      "x:\n",
      "[-6.   6.5]\n",
      "------------------\n",
      "------------------\n",
      "Residuum:\n",
      "------------------\n",
      "Gaußsche Normalengleichungen: 1.2592102364157598e-14\n",
      "------------------\n",
      "Householder-Orthogonalisierung: 3.972054645195637e-15\n",
      "------------------\n",
      "Givens-Rotation: 3.972054645195637e-15\n",
      "------------------\n"
     ]
    }
   ],
   "source": [
    "test_least_squares_methods()"
   ]
  },
  {
   "attachments": {},
   "cell_type": "markdown",
   "metadata": {},
   "source": [
    "\n",
    "In diesem Skript werden die Implementierungen der Funktionen getestet und das Residuum für jede Lösung berechnet. Die Ergebnisse werden ausgegeben und verglichen. Wenn das Residuum nahezu null ist, können wir davon ausgehen, dass die Lösungen korrekt sind."
   ]
  },
  {
   "cell_type": "code",
   "execution_count": 21,
   "metadata": {},
   "outputs": [
    {
     "data": {
      "image/png": "[encoded data removed]",
      "text/plain": [
       "<Figure size 640x480 with 1 Axes>"
      ]
     },
     "metadata": {},
     "output_type": "display_data"
    }
   ],
   "source": [
    "import matplotlib.pyplot as plt\n",
    "\n",
    "\n",
    "def test2_least_squares_methods():\n",
    "    matrices = [np.array([[1, 2],\n",
    "                          [3, 4],\n",
    "                          [5, 6]]),\n",
    "                np.array([[2, -1],\n",
    "                          [1, 3],\n",
    "                          [-1, 2]]),\n",
    "                np.array([[3, 1, 2],\n",
    "                          [2, 5, 1],\n",
    "                          [1, 2, 4]])]\n",
    "    vectors = [np.array([7, 8, 9]),\n",
    "               np.array([1, 2, 3]),\n",
    "               np.array([4, 5, 6])]\n",
    "\n",
    "    residuals_normal_eq = []\n",
    "    residuals_householder = []\n",
    "    residuals_givens = []\n",
    "\n",
    "    for A, b in zip(matrices, vectors):\n",
    "        # Cholesky-Zerlegung\n",
    "        L = cholesky_zerlegung(np.dot(A.T, A))\n",
    "\n",
    "        # Gaußsche Normalengleichungen\n",
    "        x_normal_eq = solve_least_squares_normal_equations(A, b)\n",
    "\n",
    "        # Transformation über Householder-Orthogonalisierung\n",
    "        R_householder, b1_householder = transform_system_with_householder(A, b)\n",
    "        x_householder = solve_reduced_system(R_householder, b1_householder)\n",
    "\n",
    "        # Transformation mittels Givens-Rotation\n",
    "        R_givens, b1_givens = transform_system_with_givens_rotation(A, b)\n",
    "        x_givens = solve_reduced_system(R_givens, b1_givens)\n",
    "\n",
    "        # Residuum berechnen\n",
    "        residual_normal_eq = np.linalg.norm(b - np.dot(A, x_normal_eq))\n",
    "        residual_householder = np.linalg.norm(b - np.dot(A, x_householder))\n",
    "        residual_givens = np.linalg.norm(b - np.dot(A, x_givens))\n",
    "\n",
    "        residuals_normal_eq.append(residual_normal_eq)\n",
    "        residuals_householder.append(residual_householder)\n",
    "        residuals_givens.append(residual_givens)\n",
    "\n",
    "    # Ergebnisse und Residuen anzeigen\n",
    "    fig, ax = plt.subplots()\n",
    "    methods = ['Matrix 1', 'Matrix 2', 'Matrix 3']\n",
    "    index = np.arange(len(methods))\n",
    "    ax.plot(index, residuals_normal_eq, label='Normal Equations')\n",
    "    ax.plot(index, residuals_householder, label='Householder')\n",
    "    ax.plot(index, residuals_givens, label='Givens Rotation')\n",
    "    ax.set_xlabel('Matrix')\n",
    "    ax.set_ylabel('Residual')\n",
    "    ax.set_title('Residuals of Least Squares Solutions')\n",
    "    ax.set_xticks(index)\n",
    "    ax.set_xticklabels(methods)\n",
    "    ax.legend()\n",
    "    plt.tight_layout()\n",
    "    plt.show()\n",
    "\n",
    "test2_least_squares_methods()"
   ]
  },
  {
   "cell_type": "code",
   "execution_count": 17,
   "metadata": {},
   "outputs": [
    {
     "data": {
      "image/png": "[encoded data removed]",
      "text/plain": [
       "<Figure size 640x480 with 1 Axes>"
      ]
     },
     "metadata": {},
     "output_type": "display_data"
    }
   ],
   "source": [
    "test2_least_squares_methods()"
   ]
  },
  {
   "cell_type": "code",
   "execution_count": null,
   "metadata": {},
   "outputs": [],
   "source": [
    "# Test 05.07.2023"
   ]
  },
  {
   "cell_type": "code",
   "execution_count": 19,
   "metadata": {},
   "outputs": [
    {
     "name": "stdout",
     "output_type": "stream",
     "text": [
      "Householder Transformation:\n",
      "H:\n",
      "[[-0.6   0.8   0.  ]\n",
      " [ 0.8  -0.36 -0.8 ]\n",
      " [ 0.   -0.48 -0.6 ]]\n",
      "Q:\n",
      "[[-0.6  -0.48  0.64]\n",
      " [ 0.8  -0.36  0.48]\n",
      " [ 0.   -0.8  -0.6 ]]\n",
      "R:\n",
      "[[-5. -5. -5.]\n",
      " [ 0. 25. 25.]\n",
      " [ 0.  0. 25.]]\n",
      "\n",
      "Givens Rotation:\n",
      "H:\n",
      "[[ 0.6         0.8         0.        ]\n",
      " [ 0.02398921 -0.01799191  0.9995503 ]\n",
      " [ 0.79964024 -0.59973018 -0.02998651]]\n",
      "Q:\n",
      "[[ 0.6         0.8         0.        ]\n",
      " [ 0.02398921 -0.01799191  0.9995503 ]\n",
      " [ 0.79964024 -0.59973018 -0.02998651]]\n",
      "R:\n",
      "[[ -1.4        -15.8          3.4       ]\n",
      " [ -4.8        -19.97301416 -34.79834427]\n",
      " [  0.           1.19946036   7.2467397 ]]\n",
      "\n",
      "Lösung des reduzierten Gleichungssystems:\n",
      "x:\n",
      "[ 0.0192 -0.1648  0.0656]\n",
      "Residuum:\n",
      "6.280369834735101e-16\n"
     ]
    }
   ],
   "source": [
    "import numpy as np\n",
    "\n",
    "def householder_transformation(A):\n",
    "    m, n = A.shape\n",
    "    R = np.copy(A)\n",
    "    Q = np.eye(m)\n",
    "    H = np.eye(m)\n",
    "    for k in range(n):\n",
    "        u = np.copy(R[k:, k])\n",
    "        u[0] = u[0] + np.sign(u[0]) * np.linalg.norm(u)\n",
    "        u = u / np.linalg.norm(u)\n",
    "        R[k:, k:] -= 2 * np.outer(u, np.dot(u, R[k:, k:]))\n",
    "        H[k:, k:] -= 2 * np.outer(u, np.dot(u, H[k:, k:]))\n",
    "        Q[k:] -= 2 * np.outer(u, np.dot(u, Q[k:]))\n",
    "    return H, Q.T, R\n",
    "\n",
    "def givens_rotation(A):\n",
    "    m, n = A.shape\n",
    "    R = np.copy(A)\n",
    "    Q = np.eye(m)\n",
    "    H = np.eye(m)\n",
    "    for k in range(n):\n",
    "        for j in range(k + 1, m):\n",
    "            if R[j, k] != 0:\n",
    "                r = np.hypot(R[k, k], R[j, k])\n",
    "                c = R[k, k] / r\n",
    "                s = -R[j, k] / r\n",
    "                G = np.array([[c, s], [-s, c]])\n",
    "                R[[k, j], k:] = np.dot(G, R[[k, j], k:])\n",
    "                H[[k, j], :] = np.dot(G, H[[k, j], :])\n",
    "                Q[:, [k, j]] = np.dot(Q[:, [k, j]], G.T)\n",
    "    return H, Q.T, R\n",
    "\n",
    "def solve_reduced_system(R, b1):\n",
    "    return np.linalg.solve(R, b1)\n",
    "\n",
    "# Beispielmatrix A und Vektor b\n",
    "V = np.array([[3, -9, 7],\n",
    "              [-4, -13, -1],\n",
    "              [0, -20, -35]], dtype='float64')\n",
    "a = np.array([2, 2, 1], dtype='int32')\n",
    "\n",
    "# a) Householder-Orthogonalisierung\n",
    "H_householder, Q_householder, R_householder = householder_transformation(V)\n",
    "print(\"Householder Transformation:\")\n",
    "print(\"H:\")\n",
    "print(H_householder)\n",
    "print(\"Q:\")\n",
    "print(Q_householder)\n",
    "print(\"R:\")\n",
    "print(R_householder)\n",
    "\n",
    "# b) Givens-Rotation\n",
    "H_givens, Q_givens, R_givens = givens_rotation(V)\n",
    "print(\"\\nGivens Rotation:\")\n",
    "print(\"H:\")\n",
    "print(H_givens)\n",
    "print(\"Q:\")\n",
    "print(Q_givens)\n",
    "print(\"R:\")\n",
    "print(R_givens)\n",
    "\n",
    "# Reduziertes Gleichungssystem lösen\n",
    "b1 = np.dot(Q_householder.T, a)[:R_householder.shape[1]]\n",
    "x = solve_reduced_system(R_householder, b1)\n",
    "print(\"\\nLösung des reduzierten Gleichungssystems:\")\n",
    "print(\"x:\")\n",
    "print(x)\n",
    "\n",
    "# Residuum berechnen\n",
    "residual = np.linalg.norm(b - np.dot(V, x))\n",
    "print(\"Residuum:\")\n",
    "print(residual)\n"
   ]
  },
  {
   "cell_type": "code",
   "execution_count": null,
   "metadata": {},
   "outputs": [],
   "source": []
  },
  {
   "cell_type": "code",
   "execution_count": 22,
   "metadata": {},
   "outputs": [
    {
     "name": "stdout",
     "output_type": "stream",
     "text": [
      "Ergebnisse:\n",
      "Matrix\t\tHouseholder Residual\t\tGivens Residual\t\tDifference in x\n",
      "1\t\t1.9118806244376894\t\t\t2.010637390419646\t\t5.508322232143182\n",
      "2\t\t1.996373082760646\t\t\t3.1716182984031116\t\t9.326067645455225\n",
      "3\t\t1.1107481030701334\t\t\t0.9922534651997112\t\t0.136660768759168\n",
      "4\t\t1.4202043196530567\t\t\t1.3652879805182243\t\t0.25007078330540694\n",
      "5\t\t2.0877002063322094\t\t\t2.0533829107523007\t\t30.510844802080104\n",
      "6\t\t1.508713120550245\t\t\t1.694466212987275\t\t2.3419794585195275\n",
      "7\t\t1.3070830364351729\t\t\t1.3513453789022223\t\t2.9445107541524154\n",
      "8\t\t0.5109787359755117\t\t\t5.631115291891469\t\t25.835441133174484\n",
      "9\t\t0.5129787758620524\t\t\t7.884255490873081\t\t40.15075967197875\n",
      "10\t\t1.5680892336484489\t\t\t2.187504756961899\t\t8.25130594961241\n"
     ]
    },
    {
     "data": {
      "image/png": "[encoded data removed]",
      "text/plain": [
       "<Figure size 800x600 with 1 Axes>"
      ]
     },
     "metadata": {},
     "output_type": "display_data"
    }
   ],
   "source": [
    "import numpy as np\n",
    "import matplotlib.pyplot as plt\n",
    "\n",
    "def test_implementation():\n",
    "    num_matrices = 10\n",
    "    results_table = np.zeros((num_matrices, 3))\n",
    "\n",
    "    for i in range(num_matrices):\n",
    "        # Generiere zufällige Matrix A und Vektor b\n",
    "        A = np.random.rand(3, 3)\n",
    "        b = np.random.rand(3)\n",
    "\n",
    "        # Householder-Orthogonalisierung\n",
    "        _, _, R_householder = householder_transformation(A)\n",
    "        b1_householder = np.dot(Q_householder.T, b)[:R_householder.shape[1]]\n",
    "        x_householder = solve_reduced_system(R_householder, b1_householder)\n",
    "        residual_householder = np.linalg.norm(b - np.dot(A, x_householder))\n",
    "\n",
    "        # Givens-Rotation\n",
    "        _, _, R_givens = givens_rotation(A)\n",
    "        b1_givens = np.dot(Q_givens.T, b)[:R_givens.shape[1]]\n",
    "        x_givens = solve_reduced_system(R_givens, b1_givens)\n",
    "        residual_givens = np.linalg.norm(b - np.dot(A, x_givens))\n",
    "\n",
    "        # Ergebnisse speichern\n",
    "        results_table[i] = [residual_householder, residual_givens, np.linalg.norm(x_householder - x_givens)]\n",
    "\n",
    "    # Tabelle ausgeben\n",
    "    print(\"Ergebnisse:\")\n",
    "    print(\"Matrix\\t\\tHouseholder Residual\\t\\tGivens Residual\\t\\tDifference in x\")\n",
    "    for i, row in enumerate(results_table):\n",
    "        print(f\"{i+1}\\t\\t{row[0]}\\t\\t\\t{row[1]}\\t\\t{row[2]}\")\n",
    "\n",
    "    # Diagramm erstellen\n",
    "    plt.figure(figsize=(8, 6))\n",
    "    plt.plot(range(1, num_matrices + 1), results_table[:, 0], label=\"Householder Residual\")\n",
    "    plt.plot(range(1, num_matrices + 1), results_table[:, 1], label=\"Givens Residual\")\n",
    "    plt.plot(range(1, num_matrices + 1), results_table[:, 2], label=\"Difference in x\")\n",
    "    plt.xlabel(\"Matrix\")\n",
    "    plt.ylabel(\"Residual / Difference\")\n",
    "    plt.title(\"Residual and Difference Comparison\")\n",
    "    plt.legend()\n",
    "    plt.grid(True)\n",
    "    plt.show()\n",
    "\n",
    "# Testen der Implementierung\n",
    "test_implementation()\n"
   ]
  },
  {
   "cell_type": "code",
   "execution_count": null,
   "metadata": {},
   "outputs": [],
   "source": []
  },
  {
   "cell_type": "code",
   "execution_count": null,
   "metadata": {},
   "outputs": [],
   "source": []
  },
  {
   "cell_type": "code",
   "execution_count": null,
   "metadata": {},
   "outputs": [],
   "source": []
  }
 ],
 "metadata": {
  "kernelspec": {
   "display_name": "base",
   "language": "python",
   "name": "python3"
  },
  "language_info": {
   "codemirror_mode": {
    "name": "ipython",
    "version": 3
   },
   "file_extension": ".py",
   "mimetype": "text/x-python",
   "name": "python",
   "nbconvert_exporter": "python",
   "pygments_lexer": "ipython3",
   "version": "3.9.12"
  },
  "orig_nbformat": 4
 },
 "nbformat": 4,
 "nbformat_minor": 2
}
