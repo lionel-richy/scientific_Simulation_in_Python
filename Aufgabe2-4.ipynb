{
 "cells": [
  {
   "attachments": {},
   "cell_type": "markdown",
   "metadata": {},
   "source": [
    "Wissenschaftliche Simulation\n",
    "Projekt 1: Lineare Ausgleichsprobleme\n",
    "\n"
   ]
  },
  {
   "attachments": {},
   "cell_type": "markdown",
   "metadata": {},
   "source": [
    "Wir möchten lineare Ausgleichsprobleme der Form min ∥b − Ax∥ A ∈ R ^m×n, b ∈ R^m, m ≥ n lösen.\n"
   ]
  },
  {
   "attachments": {},
   "cell_type": "markdown",
   "metadata": {},
   "source": [
    "Aufgabe 2:"
   ]
  },
  {
   "attachments": {},
   "cell_type": "markdown",
   "metadata": {},
   "source": [
    "Zunächst versuchen wir, das Ausgleichsproblem über die Gaußschen Normalengleichungen zu lösen."
   ]
  },
  {
   "attachments": {},
   "cell_type": "markdown",
   "metadata": {},
   "source": [
    "i) Schreiben Sie ein Programm, welches für eine gegebene symmetrische, positiv definite Matrix A ihre Cholesky-Zerlegung A = LL^⊤ bestimmt. \n",
    "Überprüfen Sie jeweils, ob die Eingabematrix A die Voraussetzungen erfüllt."
   ]
  },
  {
   "cell_type": "code",
   "execution_count": 4,
   "metadata": {},
   "outputs": [
    {
     "name": "stdout",
     "output_type": "stream",
     "text": [
      "Cholesky-Zerlegung von A:\n",
      "[[2.         0.         0.        ]\n",
      " [1.         2.         0.        ]\n",
      " [0.5        1.25       2.04633819]]\n"
     ]
    }
   ],
   "source": [
    "\n",
    "'''\n",
    "Das Programm überprüft zuerst, ob die gegebene Matrix A symmetrisch ist, \n",
    "indem die Funktion is_symmetric verwendet wird. \n",
    "Wenn die Matrix nicht symmetrisch ist, wird eine entsprechende Fehlermeldung ausgegeben und das Programm beendet. \n",
    "Anschließend wird überprüft, ob die Matrix A positiv definit ist, indem die Funktion is_positive_definite verwendet wird.\n",
    "Wenn die Matrix nicht positiv definit ist, wird eine Fehlermeldung ausgegeben und das Programm beendet. \n",
    "Wenn beide Voraussetzungen erfüllt sind, wird die Cholesky-Zerlegung von A mit der Funktion cholesky_decomposition berechnet und ausgegeben.\n",
    "\n",
    "'''\n",
    "\n",
    "import numpy as np\n",
    "from numpy.linalg import qr\n",
    "\n",
    "# Funktion zur Überprüfung der Symmetrie einer Matrix\n",
    "def is_symmetric(matrix):\n",
    "    return np.allclose(matrix, matrix.T)\n",
    "\n",
    "# Funktion zur Überprüfung der positiven Definitheit einer Matrix\n",
    "def is_positive_definite(matrix):\n",
    "    eigenvalues, _ = np.linalg.eig(matrix)\n",
    "    return np.all(eigenvalues > 0)\n",
    "\n",
    "# Funktion zur Berechnung der Cholesky-Zerlegung\n",
    "def cholesky_decomposition(matrix):\n",
    "    return np.linalg.cholesky(matrix)\n",
    "\n",
    "# Beispielmatrixen\n",
    "A = np.array ([[4, 2, 1],\n",
    "              [2, 5, 3],\n",
    "              [1, 3, 6]], dtype='float64')\n",
    "\n",
    "B= np.array ([[1, 2, 1],\n",
    "              [2, 5, 2],\n",
    "              [1, 2, 10]])\n",
    "\n",
    "C=np.array ([[2, -1, 0],\n",
    "              [-1, 2, -1],\n",
    "              [0, -1, 2]])\n",
    "\n",
    "D=np.array ([[1, -3, 1, 0],\n",
    "              [-3, 13, 3, 4],\n",
    "              [1, 3, 14, 4],\n",
    "              [0, 4, 4, 14]])\n",
    "\n",
    "# in E ist eine Cholesky-Zerlegung nicht möglicht weil , es nicht positiv definiert und nicht symetriche ist\n",
    "E=np.array ([[1, 0, 0, 0],\n",
    "              [-3, 0, 3, 0],\n",
    "              [1, 3, 3, 0],\n",
    "              [0, 2, -1, 3]])\n",
    "\n",
    "\n",
    "\n",
    "# Überprüfung der Voraussetzungen von A\n",
    "if not is_symmetric(A):\n",
    "    print(\"Die Matrix A ist nicht symmetrisch.\")\n",
    "    exit()\n",
    "elif not is_positive_definite(A):\n",
    "    print(\"Die Matrix A ist nicht positiv definit.\")\n",
    "    exit()\n",
    "\n",
    "# Berechnung der Cholesky-Zerlegung von A\n",
    "L_eins = cholesky_decomposition(A)\n",
    "\n",
    "print(\"Cholesky-Zerlegung von A:\")\n",
    "print(L_eins)\n"
   ]
  },
  {
   "cell_type": "code",
   "execution_count": 14,
   "metadata": {},
   "outputs": [
    {
     "name": "stdout",
     "output_type": "stream",
     "text": [
      "Cholesky-Zerlegung erfolgreich:\n",
      " --------------------------> \n",
      "L:\n",
      " --------------------------> \n",
      "[[2.         0.         0.        ]\n",
      " [1.         2.         0.        ]\n",
      " [0.5        1.25       2.04633819]]\n",
      " --------------------------> \n",
      "L^T:\n",
      " --------------------------> \n",
      "[[2.         1.         0.5       ]\n",
      " [0.         2.         1.25      ]\n",
      " [0.         0.         2.04633819]]\n"
     ]
    }
   ],
   "source": [
    "''' \n",
    "In diesem Beispiel wird die Funktion cholesky_decomposition verwendet, \n",
    "um die Cholesky-Zerlegung durchzuführen.\n",
    "Die Funktion überprüft die Voraussetzungen für die Cholesky-Zerlegung, indem sie sicherstellt,\n",
    "dass alle Eigenwerte von A positiv sind und dass A symmetrisch ist.\n",
    "Wenn die Eingabematrix die Voraussetzungen erfüllt, \n",
    "wird die Cholesky-Zerlegung berechnet und die resultierenden Matrizen L und L^T werden ausgegeben. \n",
    "Andernfalls wird eine entsprechende Fehlermeldung ausgegeben.\n",
    "\n",
    "'''\n",
    "\n",
    "def cholesky_decomposition(A):\n",
    "    n = A.shape[0]\n",
    "    L = np.zeros_like(A)\n",
    "\n",
    "    for i in range(n):\n",
    "        for j in range(i+1):\n",
    "            if i == j:\n",
    "                L[i, j] = np.sqrt(A[i, i] - np.sum(L[i, :j]**2))\n",
    "            else:\n",
    "                L[i, j] = (A[i, j] - np.dot(L[i, :j], L[j, :j])) / L[j, j]\n",
    "\n",
    "    return L\n",
    "\n",
    "\n",
    "# Überprüfen der Voraussetzungen für die Cholesky-Zerlegung\n",
    "if np.all(np.linalg.eigvals(A) > 0) and np.allclose(A, A.T):\n",
    "    # Berechnung der Cholesky-Zerlegung von A\n",
    "    \n",
    "    L = cholesky_decomposition(A)\n",
    "    \n",
    "    print(\"Cholesky-Zerlegung erfolgreich:\")\n",
    "    print(\" --------------------------> \")\n",
    "    print(\"L:\")\n",
    "    print(\" --------------------------> \")\n",
    "    print(L)\n",
    "    print(\" --------------------------> \")\n",
    "    print(\"L^T:\")\n",
    "    print(\" --------------------------> \")\n",
    "    print(L.T)\n",
    "else:\n",
    "    print(\"Die Eingabematrix erfüllt nicht die Voraussetzungen für die Cholesky-Zerlegung.\")\n"
   ]
  },
  {
   "attachments": {},
   "cell_type": "markdown",
   "metadata": {},
   "source": [
    "ii)Schreiben Sie ein Programm, welches das lineare Ausgleichsproblem durch Lösen der\n",
    "Gaußschen Normalengleichungen löst. Verwenden Sie Ihr Programm aus (i), um zunächst\n",
    "die Cholesky-Zerlegung der Matrix A^TA zu bestimmen."
   ]
  },
  {
   "cell_type": "code",
   "execution_count": 15,
   "metadata": {},
   "outputs": [
    {
     "name": "stdout",
     "output_type": "stream",
     "text": [
      "Lösung x:\n",
      "[ 0.37313433  0.26865672 -0.02985075]\n"
     ]
    }
   ],
   "source": [
    "'''\n",
    "Das Programm verwendet die zuvor definierte Funktion cholesky_decomposition zur Berechnung der Cholesky-Zerlegung von A^T * A. \n",
    "Anschließend werden die Gaußschen Normalengleichungen A^T * A * x = A^T * b gelöst, indem das Cholesky-Zerlegungsverfahren auf A^T * A angewendet wird. \n",
    "Die Lösung des linearen Gleichungssystems erfolgt mit Hilfe der numpy-Funktion solve. \n",
    "Der Vektor x enthält die Lösung des linearen Ausgleichsproblems.\n",
    "\n",
    "'''\n",
    "\n",
    "\n",
    "# Funktion zur Lösung des linearen Ausgleichsproblems über die Gaußschen Normalengleichungen\n",
    "def solve_least_squares(A, b):\n",
    "    # Berechnung von A^T * A und A^T * b\n",
    "    ATA = np.dot(A.T, A)\n",
    "    ATb = np.dot(A.T, b)\n",
    "\n",
    "    # Cholesky-Zerlegung von A^T * A\n",
    "    L_zwei = cholesky_decomposition(ATA)\n",
    "\n",
    "    # Lösung des linearen Gleichungssystems L * L^T * x = A^T * b\n",
    "    \n",
    "    # Lösen von L^T y = A^T b durch Vorwärts-Substitution\n",
    "    y = np.linalg.solve(L_zwei, ATb)\n",
    "    # Lösen von L x = y durch Rückwärts-Substitution\n",
    "    x = np.linalg.solve(L_zwei.T, y)\n",
    "\n",
    "    return x\n",
    "\n",
    "# Vektor b\n",
    "\n",
    "b = np.array([2, 2, 1], dtype='int32')\n",
    "\n",
    "# Lösung des linearen Ausgleichsproblems\n",
    "x_linAusg = solve_least_squares(A, b)\n",
    "\n",
    "print(\"Lösung x:\")\n",
    "print(x_linAusg)"
   ]
  },
  {
   "cell_type": "code",
   "execution_count": 19,
   "metadata": {},
   "outputs": [
    {
     "name": "stdout",
     "output_type": "stream",
     "text": [
      "Lösung x:\n",
      "[ 0.02580001 -0.09888155  1.21648519]\n"
     ]
    }
   ],
   "source": [
    "def solve_normal_equations(A, b):\n",
    "    L = cholesky_decomposition(A.T @ A)\n",
    "    y = np.linalg.solve(L.T, A.T @ b)\n",
    "    x = np.linalg.solve(L, y)\n",
    "    return x\n",
    "\n",
    "# Beispiel-Eingabedaten\n",
    "\n",
    "\n",
    "# Lösung der Gaußschen Normalengleichungen\n",
    "x = solve_normal_equations(A, b)\n",
    "\n",
    "print(\"Lösung x:\")\n",
    "print(x)\n"
   ]
  },
  {
   "attachments": {},
   "cell_type": "markdown",
   "metadata": {},
   "source": [
    "Aufgabe 3:"
   ]
  },
  {
   "attachments": {},
   "cell_type": "markdown",
   "metadata": {},
   "source": [
    "Nun möchten wir das Ausgleichsproblem mit einem Orthogonalisierungsverfahren lösen. \n",
    "Dazu transformieren wir das Gleichungssystem Ax = b auf das System Q^T Ax = Q^T b mit Q^T A = [R  0] und Q^⊤ b = [b1 b2],"
   ]
  },
  {
   "attachments": {},
   "cell_type": "markdown",
   "metadata": {},
   "source": [
    "Dann lösen wir das System Rx = b1"
   ]
  },
  {
   "attachments": {},
   "cell_type": "markdown",
   "metadata": {},
   "source": [
    "i) Schreiben Sie ein Programm, welches das Gleichungssystem transformiert\n",
    "    \n",
    "   "
   ]
  },
  {
   "attachments": {},
   "cell_type": "markdown",
   "metadata": {},
   "source": [
    "a) über Householder-Orthogonalisierung,"
   ]
  },
  {
   "cell_type": "code",
   "execution_count": 16,
   "metadata": {},
   "outputs": [
    {
     "name": "stdout",
     "output_type": "stream",
     "text": [
      "Lösung x:\n",
      "[-0.02941723 -0.27395142  0.63547036]\n"
     ]
    }
   ],
   "source": [
    "'''\n",
    "Das Programm verwendet die Householder-Orthogonalisierung, um die Matrizen Q und R zu berechnen. \n",
    "Anschließend wird das Gleichungssystem Q^T Ax = Q^T b durch Multiplikation von A und b mit der transponierten Matrix Q transformiert. \n",
    "Das reduzierte Gleichungssystem Rx = b1 wird gelöst, wobei R die obere Dreiecksmatrix aus R1 ist.\n",
    "\n",
    "'''\n",
    "\n",
    "def householder_qr(A, b):\n",
    "    m, n = A.shape\n",
    "\n",
    "    # Initialisierung der Matrizen Q und R\n",
    "    Q = np.eye(m)\n",
    "    R = A.copy()\n",
    "\n",
    "    for k in range(n):\n",
    "        # Berechnung des Householder-Vektors\n",
    "        x = R[k:, k]\n",
    "        e = np.zeros_like(x)\n",
    "        e[0] = np.linalg.norm(x)\n",
    "        v = x + np.sign(x[0]) * e\n",
    "        v = v / np.linalg.norm(v)\n",
    "\n",
    "        # Aktualisierung von R\n",
    "        R[k:, k:] -= 2 * np.outer(v, np.dot(v, R[k:, k:]))\n",
    "\n",
    "        # Aktualisierung von Q\n",
    "        Q[k:, :] -= 2 * np.outer(v, np.dot(v, Q[k:, :]))\n",
    "\n",
    "    # Transformation des Gleichungssystems\n",
    "    QTb = np.dot(Q.T, b)\n",
    "\n",
    "    # Lösen des transformierten Gleichungssystems\n",
    "    R1 = R[:n, :n]\n",
    "    b1 = QTb[:n]\n",
    "    x = np.linalg.solve(R1, b1)\n",
    "\n",
    "    return x\n",
    "\n",
    "\n",
    "# Lösung des Ausgleichsproblems mit Householder-Orthogonalisierung\n",
    "x_housOrth = householder_qr(A, b)\n",
    "\n",
    "print(\"Lösung x:\")\n",
    "print(x_housOrth)\n"
   ]
  },
  {
   "cell_type": "code",
   "execution_count": 17,
   "metadata": {},
   "outputs": [
    {
     "name": "stdout",
     "output_type": "stream",
     "text": [
      "Transformierte Matrix Q:\n",
      "[[-1.  0.  0.]\n",
      " [ 0. -1.  0.]\n",
      " [ 0.  0. -1.]]\n",
      "Transformierte Matrix R:\n",
      "[[-4. -2. -1.]\n",
      " [-2. -5. -3.]\n",
      " [-1. -3. -6.]]\n",
      "Transformierter Vektor b1:\n",
      "[-2. -2. -1.]\n"
     ]
    }
   ],
   "source": [
    "\n",
    "\n",
    "def householder_transformation(A):\n",
    "    m, n = A.shape\n",
    "    R = np.copy(A)\n",
    "    Q = np.eye(m)\n",
    "\n",
    "    for k in range(n):\n",
    "        x = R[k:, k]\n",
    "        e = np.zeros_like(x)\n",
    "        e[0] = np.sign(x[0] if x[0] != 0 else 1)\n",
    "\n",
    "        u = np.linalg.norm(x) * e\n",
    "        v = u / np.linalg.norm(u)\n",
    "        Qk = np.eye(m)\n",
    "        Qk[k:, k:] -= 2.0 * np.outer(v, v)\n",
    "        \n",
    "        R = np.dot(Qk, R)\n",
    "        Q = np.dot(Q, Qk.T)\n",
    "\n",
    "    return Q.T, R\n",
    "\n",
    "# Beispiel-Eingabedaten\n",
    "\n",
    "\n",
    "# Transformieren des Gleichungssystems mittels Householder-Orthogonalisierung\n",
    "Q, R = householder_transformation(A)\n",
    "b1 = np.dot(Q, b)[:R.shape[1]]\n",
    "\n",
    "# Ausgabe der transformierten Matrizen\n",
    "print(\"Transformierte Matrix Q:\")\n",
    "print(Q)\n",
    "print(\"Transformierte Matrix R:\")\n",
    "print(R)\n",
    "print(\"Transformierter Vektor b1:\")\n",
    "print(b1)\n"
   ]
  },
  {
   "cell_type": "code",
   "execution_count": null,
   "metadata": {},
   "outputs": [],
   "source": []
  },
  {
   "attachments": {},
   "cell_type": "markdown",
   "metadata": {},
   "source": [
    " b) mittels Givens-Rotation."
   ]
  },
  {
   "attachments": {},
   "cell_type": "markdown",
   "metadata": {},
   "source": []
  },
  {
   "cell_type": "code",
   "execution_count": 10,
   "metadata": {},
   "outputs": [
    {
     "name": "stdout",
     "output_type": "stream",
     "text": [
      "Lösung x:\n",
      "[[0.52303532 0.76148459 0.76148459]\n",
      " [0.16395646 0.34492505 0.34492505]\n",
      " [0.24396721 0.18330303 0.18330303]]\n"
     ]
    }
   ],
   "source": [
    "''' \n",
    "Diese Programme transformieren das Gleichungssystem Ax = b \n",
    "durch Anwendung der Householder-Orthogonalisierung bzw. Givens-Rotationen auf A und b.\n",
    "Anschließend wird das transformierte Gleichungssystem gelöst, \n",
    "indem das reduzierte Gleichungssystem Rx = b1 mit R als obere Dreiecksmatrix gelöst wird. \n",
    "Die Lösung x wird zurückgegeben.\n",
    "'''\n",
    "\n",
    "def givens_rotation(A, b):\n",
    "    m, n = A.shape\n",
    "\n",
    "    # Initialisierung der Matrizen Q und R\n",
    "    Q = np.eye(m)\n",
    "    R = A.copy()\n",
    "\n",
    "    for j in range(n):\n",
    "        for i in range(j+1, m):\n",
    "            # Berechnung der Givens-Rotation\n",
    "            a = R[j, j]\n",
    "            b = R[i, j]\n",
    "            r = np.sqrt(a**2 + b**2)\n",
    "            c = a / r\n",
    "            s = -b / r\n",
    "\n",
    "            # Anwendung der Givens-Rotation auf R\n",
    "            temp = np.array([c * R[j, j:] - s * R[i, j:]])\n",
    "            R[[j, i], j:] = temp\n",
    "            R[i, j] = 0\n",
    "\n",
    "            # Anwendung der Givens-Rotation auf Q\n",
    "            temp = np.array([c * Q[j, :] - s * Q[i, :]])\n",
    "            Q[[j, i], :] = temp\n",
    "\n",
    "    # Transformation des Gleichungssystems\n",
    "    QTA = np.dot(Q.T, A)\n",
    "    QTb = np.dot(Q.T, b)\n",
    "\n",
    "    # Aufteilen von QTA und QTb in R und Nullmatrix\n",
    "    R1 = R[:n, :n]\n",
    "    Z = R[:n, n:]\n",
    "\n",
    "    # Aufteilen von QTb in b1 und b2\n",
    "    b1 = QTb[:n]\n",
    "    b2 = QTb[n:]\n",
    "\n",
    "    # Lösen des reduzierten Gleichungssystems\n",
    "    x = np.linalg.solve(R1, b1)\n",
    "\n",
    "    return x\n",
    "\n",
    "\n",
    "\n",
    "# Lösung des Ausgleichsproblems mit Givens-Rotationen\n",
    "x_givRot = givens_rotation(A, b)\n",
    "\n",
    "print(\"Lösung x:\")\n",
    "print(x_givRot)"
   ]
  },
  {
   "cell_type": "code",
   "execution_count": 18,
   "metadata": {},
   "outputs": [
    {
     "name": "stdout",
     "output_type": "stream",
     "text": [
      "Transformierte Matrix Q:\n",
      "[[ 0.87287156  0.43643578  0.21821789]\n",
      " [-0.48507125  0.72760688  0.48507125]\n",
      " [ 0.05292561 -0.52925612  0.8468098 ]]\n",
      "Transformierte Matrix R:\n",
      "[[4.58257569 4.58257569 3.49148624]\n",
      " [0.         4.12310563 4.60817688]\n",
      " [0.         0.         3.54601603]]\n",
      "Transformierter Vektor b1:\n",
      "[ 2.83683257  0.9701425  -0.10585122]\n"
     ]
    }
   ],
   "source": [
    "import numpy as np\n",
    "\n",
    "def givens_rotation(A):\n",
    "    m, n = A.shape\n",
    "    R = np.copy(A)\n",
    "    Q = np.eye(m)\n",
    "\n",
    "    for k in range(n):\n",
    "        for i in range(m-1, k, -1):\n",
    "            if R[i, k] != 0:\n",
    "                r = np.sqrt(R[i-1, k]**2 + R[i, k]**2)\n",
    "                c = R[i-1, k] / r\n",
    "                s = -R[i, k] / r\n",
    "\n",
    "                G = np.eye(m)\n",
    "                G[[i-1, i], [i-1, i]] = c\n",
    "                G[i-1, i] = -s\n",
    "                G[i, i-1] = s\n",
    "\n",
    "                R = np.dot(G, R)\n",
    "                Q = np.dot(Q, G.T)\n",
    "\n",
    "    return Q.T, R\n",
    "\n",
    "# Beispiel-Eingabedaten\n",
    "\n",
    "\n",
    "# Transformieren des Gleichungssystems mittels Givens-Rotation\n",
    "Q, R = givens_rotation(A)\n",
    "b1 = np.dot(Q, b)[:R.shape[1]]\n",
    "\n",
    "# Ausgabe der transformierten Matrizen\n",
    "print(\"Transformierte Matrix Q:\")\n",
    "print(Q)\n",
    "print(\"Transformierte Matrix R:\")\n",
    "print(R)\n",
    "print(\"Transformierter Vektor b1:\")\n",
    "print(b1)\n"
   ]
  },
  {
   "attachments": {},
   "cell_type": "markdown",
   "metadata": {},
   "source": [
    "ii)Schreiben Sie ein Programm, welches das reduzierte Gleichungssystem Rx = b1 löst."
   ]
  },
  {
   "cell_type": "code",
   "execution_count": 12,
   "metadata": {},
   "outputs": [
    {
     "name": "stdout",
     "output_type": "stream",
     "text": [
      "Lösung des reduzierten Gleichungssystems x:\n",
      "[1.58333333 1.45833333 0.83333333]\n"
     ]
    }
   ],
   "source": [
    "''' \n",
    "Das Programm löst das reduzierte Gleichungssystem Rx = b1, \n",
    "indem es die Rückwärtssubstitution verwendet. \n",
    "Es iteriert über die Zeilen von unten nach oben und berechnet die Lösung x[i] für jede Variable.\n",
    "Das Ergebnis wird in Form eines Vektors x ausgegeben.\n",
    "\n",
    "'''\n",
    "\n",
    "def solve_reduced_system(R, b1):\n",
    "    n = R.shape[1]\n",
    "\n",
    "    # Rückwärtssubstitution zur Lösung des Gleichungssystems Rx = b1\n",
    "    x = np.zeros(n)\n",
    "    for i in range(n - 1, -1, -1):\n",
    "        x[i] = (b1[i] - np.dot(R[i, i+1:], x[i+1:])) / R[i, i]\n",
    "\n",
    "    return x\n",
    "\n",
    "# Beispielmatrix R und Vektor b1\n",
    "R = np.array([[1, 2, 3],\n",
    "              [0, 4, 5],\n",
    "              [0, 0, 6]])\n",
    "\n",
    "b1 = np.array([7, 10, 5])\n",
    "\n",
    "# Lösung des reduzierten Gleichungssystems\n",
    "x_redSys = solve_reduced_system(R, b1)\n",
    "\n",
    "print(\"Lösung des reduzierten Gleichungssystems x:\")\n",
    "print(x_redSys)\n"
   ]
  },
  {
   "cell_type": "code",
   "execution_count": null,
   "metadata": {},
   "outputs": [],
   "source": []
  },
  {
   "attachments": {},
   "cell_type": "markdown",
   "metadata": {},
   "source": [
    "Aufgabe 4:"
   ]
  },
  {
   "attachments": {},
   "cell_type": "markdown",
   "metadata": {},
   "source": [
    "Schreiben Sie ein Skript, welches Ihre Implementierung aus Aufgabe 2 und 3 anhand anhand mehrerer\n",
    "Beispiele testet. Geben Sie zusätzlich jeweils das Residuum aus und vergleichen Sie Ihre\n",
    "Ergebnisse"
   ]
  },
  {
   "attachments": {},
   "cell_type": "markdown",
   "metadata": {},
   "source": []
  },
  {
   "attachments": {},
   "cell_type": "markdown",
   "metadata": {},
   "source": []
  },
  {
   "cell_type": "code",
   "execution_count": 21,
   "metadata": {},
   "outputs": [
    {
     "name": "stdout",
     "output_type": "stream",
     "text": [
      "Example:\n",
      "A:\n",
      "[[ 1  2  3]\n",
      " [ 4  5  6]\n",
      " [ 7  8 10]]\n",
      "b:\n",
      "[ 6 15 28]\n"
     ]
    },
    {
     "ename": "LinAlgError",
     "evalue": "Matrix is not positive definite",
     "output_type": "error",
     "traceback": [
      "\u001b[1;31m---------------------------------------------------------------------------\u001b[0m",
      "\u001b[1;31mLinAlgError\u001b[0m                               Traceback (most recent call last)",
      "\u001b[1;32mc:\\Users\\panla\\OneDrive\\Documents\\HRW\\Master 3 Semester\\WiSi\\WiSi_Projekt_1\\Aufgabe2-4.ipynb Cell 30\u001b[0m in \u001b[0;36m<cell line: 103>\u001b[1;34m()\u001b[0m\n\u001b[0;32m    <a href='vscode-notebook-cell:/c%3A/Users/panla/OneDrive/Documents/HRW/Master%203%20Semester/WiSi/WiSi_Projekt_1/Aufgabe2-4.ipynb#X62sZmlsZQ%3D%3D?line=99'>100</a>\u001b[0m         \u001b[39mprint\u001b[39m(\u001b[39m\"\u001b[39m\u001b[39m------------------\u001b[39m\u001b[39m\"\u001b[39m)\n\u001b[0;32m    <a href='vscode-notebook-cell:/c%3A/Users/panla/OneDrive/Documents/HRW/Master%203%20Semester/WiSi/WiSi_Projekt_1/Aufgabe2-4.ipynb#X62sZmlsZQ%3D%3D?line=101'>102</a>\u001b[0m \u001b[39m# Testen der Implementierung\u001b[39;00m\n\u001b[1;32m--> <a href='vscode-notebook-cell:/c%3A/Users/panla/OneDrive/Documents/HRW/Master%203%20Semester/WiSi/WiSi_Projekt_1/Aufgabe2-4.ipynb#X62sZmlsZQ%3D%3D?line=102'>103</a>\u001b[0m test()\n",
      "\u001b[1;32mc:\\Users\\panla\\OneDrive\\Documents\\HRW\\Master 3 Semester\\WiSi\\WiSi_Projekt_1\\Aufgabe2-4.ipynb Cell 30\u001b[0m in \u001b[0;36mtest\u001b[1;34m()\u001b[0m\n\u001b[0;32m     <a href='vscode-notebook-cell:/c%3A/Users/panla/OneDrive/Documents/HRW/Master%203%20Semester/WiSi/WiSi_Projekt_1/Aufgabe2-4.ipynb#X62sZmlsZQ%3D%3D?line=58'>59</a>\u001b[0m \u001b[39mprint\u001b[39m(b)\n\u001b[0;32m     <a href='vscode-notebook-cell:/c%3A/Users/panla/OneDrive/Documents/HRW/Master%203%20Semester/WiSi/WiSi_Projekt_1/Aufgabe2-4.ipynb#X62sZmlsZQ%3D%3D?line=60'>61</a>\u001b[0m \u001b[39m# i) Cholesky-Zerlegung\u001b[39;00m\n\u001b[1;32m---> <a href='vscode-notebook-cell:/c%3A/Users/panla/OneDrive/Documents/HRW/Master%203%20Semester/WiSi/WiSi_Projekt_1/Aufgabe2-4.ipynb#X62sZmlsZQ%3D%3D?line=61'>62</a>\u001b[0m L \u001b[39m=\u001b[39m cholesky_decomposition(A)\n\u001b[0;32m     <a href='vscode-notebook-cell:/c%3A/Users/panla/OneDrive/Documents/HRW/Master%203%20Semester/WiSi/WiSi_Projekt_1/Aufgabe2-4.ipynb#X62sZmlsZQ%3D%3D?line=62'>63</a>\u001b[0m \u001b[39mprint\u001b[39m(\u001b[39m\"\u001b[39m\u001b[39mCholesky-Zerlegung:\u001b[39m\u001b[39m\"\u001b[39m)\n\u001b[0;32m     <a href='vscode-notebook-cell:/c%3A/Users/panla/OneDrive/Documents/HRW/Master%203%20Semester/WiSi/WiSi_Projekt_1/Aufgabe2-4.ipynb#X62sZmlsZQ%3D%3D?line=63'>64</a>\u001b[0m \u001b[39mprint\u001b[39m(\u001b[39m\"\u001b[39m\u001b[39mL:\u001b[39m\u001b[39m\"\u001b[39m)\n",
      "\u001b[1;32mc:\\Users\\panla\\OneDrive\\Documents\\HRW\\Master 3 Semester\\WiSi\\WiSi_Projekt_1\\Aufgabe2-4.ipynb Cell 30\u001b[0m in \u001b[0;36mcholesky_decomposition\u001b[1;34m(A)\u001b[0m\n\u001b[0;32m      <a href='vscode-notebook-cell:/c%3A/Users/panla/OneDrive/Documents/HRW/Master%203%20Semester/WiSi/WiSi_Projekt_1/Aufgabe2-4.ipynb#X62sZmlsZQ%3D%3D?line=3'>4</a>\u001b[0m \u001b[39mdef\u001b[39;00m \u001b[39mcholesky_decomposition\u001b[39m(A):\n\u001b[1;32m----> <a href='vscode-notebook-cell:/c%3A/Users/panla/OneDrive/Documents/HRW/Master%203%20Semester/WiSi/WiSi_Projekt_1/Aufgabe2-4.ipynb#X62sZmlsZQ%3D%3D?line=4'>5</a>\u001b[0m     L \u001b[39m=\u001b[39m np\u001b[39m.\u001b[39;49mlinalg\u001b[39m.\u001b[39;49mcholesky(A)\n\u001b[0;32m      <a href='vscode-notebook-cell:/c%3A/Users/panla/OneDrive/Documents/HRW/Master%203%20Semester/WiSi/WiSi_Projekt_1/Aufgabe2-4.ipynb#X62sZmlsZQ%3D%3D?line=5'>6</a>\u001b[0m     \u001b[39mreturn\u001b[39;00m L\n",
      "File \u001b[1;32m<__array_function__ internals>:5\u001b[0m, in \u001b[0;36mcholesky\u001b[1;34m(*args, **kwargs)\u001b[0m\n",
      "File \u001b[1;32mc:\\Users\\panla\\anaconda3\\lib\\site-packages\\numpy\\linalg\\linalg.py:763\u001b[0m, in \u001b[0;36mcholesky\u001b[1;34m(a)\u001b[0m\n\u001b[0;32m    761\u001b[0m t, result_t \u001b[39m=\u001b[39m _commonType(a)\n\u001b[0;32m    762\u001b[0m signature \u001b[39m=\u001b[39m \u001b[39m'\u001b[39m\u001b[39mD->D\u001b[39m\u001b[39m'\u001b[39m \u001b[39mif\u001b[39;00m isComplexType(t) \u001b[39melse\u001b[39;00m \u001b[39m'\u001b[39m\u001b[39md->d\u001b[39m\u001b[39m'\u001b[39m\n\u001b[1;32m--> 763\u001b[0m r \u001b[39m=\u001b[39m gufunc(a, signature\u001b[39m=\u001b[39;49msignature, extobj\u001b[39m=\u001b[39;49mextobj)\n\u001b[0;32m    764\u001b[0m \u001b[39mreturn\u001b[39;00m wrap(r\u001b[39m.\u001b[39mastype(result_t, copy\u001b[39m=\u001b[39m\u001b[39mFalse\u001b[39;00m))\n",
      "File \u001b[1;32mc:\\Users\\panla\\anaconda3\\lib\\site-packages\\numpy\\linalg\\linalg.py:91\u001b[0m, in \u001b[0;36m_raise_linalgerror_nonposdef\u001b[1;34m(err, flag)\u001b[0m\n\u001b[0;32m     90\u001b[0m \u001b[39mdef\u001b[39;00m \u001b[39m_raise_linalgerror_nonposdef\u001b[39m(err, flag):\n\u001b[1;32m---> 91\u001b[0m     \u001b[39mraise\u001b[39;00m LinAlgError(\u001b[39m\"\u001b[39m\u001b[39mMatrix is not positive definite\u001b[39m\u001b[39m\"\u001b[39m)\n",
      "\u001b[1;31mLinAlgError\u001b[0m: Matrix is not positive definite"
     ]
    }
   ],
   "source": [
    "import numpy as np\n",
    "\n",
    "# i) Cholesky-Zerlegung von A = LL^T\n",
    "def cholesky_decomposition(A):\n",
    "    L = np.linalg.cholesky(A)\n",
    "    return L\n",
    "\n",
    "# ii) Lösung des linearen Ausgleichsproblems über die Gaußschen Normalengleichungen\n",
    "def solve_least_squares_normal_equations(A, b):\n",
    "    ATA = np.dot(A.T, A)\n",
    "    ATb = np.dot(A.T, b)\n",
    "    x = np.linalg.solve(ATA, ATb)\n",
    "    return x\n",
    "\n",
    "# iii) Transformation des Gleichungssystems über Householder-Orthogonalisierung\n",
    "def transform_system_householder(A, b):\n",
    "    Q, R = np.linalg.qr(A)\n",
    "    R1 = R[:R.shape[1], :]\n",
    "    b1 = np.dot(Q.T, b)[:R.shape[1]]\n",
    "    return R1, b1\n",
    "\n",
    "# iii) Transformation des Gleichungssystems mittels Givens-Rotation\n",
    "def transform_system_givens(A, b):\n",
    "    Q, R = np.linalg.qr(A)\n",
    "    R1 = R[:R.shape[1], :]\n",
    "    b1 = np.dot(Q.T, b)[:R.shape[1]]\n",
    "    return R1, b1\n",
    "\n",
    "# iv) Lösung des reduzierten Gleichungssystems Rx = b1\n",
    "def solve_reduced_system(R, b1):\n",
    "    x = np.linalg.solve(R, b1)\n",
    "    return x\n",
    "\n",
    "# v) Testen der Implementierung anhand mehrerer Beispiele\n",
    "def test():\n",
    "    examples = [\n",
    "        {\n",
    "            'A': np.array([[1, 2, 3],\n",
    "                           [4, 5, 6],\n",
    "                           [7, 8, 10]]),\n",
    "            'b': np.array([6, 15, 28])\n",
    "        },\n",
    "        {\n",
    "            'A': np.array([[1, -1],\n",
    "                           [2, 3],\n",
    "                           [4, 5]]),\n",
    "            'b': np.array([0, 3, 6])\n",
    "        }\n",
    "    ]\n",
    "\n",
    "    for example in examples:\n",
    "        A = example['A']\n",
    "        b = example['b']\n",
    "\n",
    "        print(\"Example:\")\n",
    "        print(\"A:\")\n",
    "        print(A)\n",
    "        print(\"b:\")\n",
    "        print(b)\n",
    "\n",
    "        # i) Cholesky-Zerlegung\n",
    "        L = cholesky_decomposition(A)\n",
    "        print(\"Cholesky-Zerlegung:\")\n",
    "        print(\"L:\")\n",
    "        print(L)\n",
    "\n",
    "        # ii) Lösung über Gaußsche Normalengleichungen\n",
    "        x_normal_eq = solve_least_squares_normal_equations(A, b)\n",
    "        print(\"Lösung über Gaußsche Normalengleichungen:\")\n",
    "        print(\"x:\")\n",
    "        print(x_normal_eq)\n",
    "\n",
    "        # iii) Transformation über Householder-Orthogonalisierung\n",
    "        R_householder, b1_householder = transform_system_householder(A, b)\n",
    "        print(\"Transformation über Householder-Orthogonalisierung:\")\n",
    "        print(\"R:\")\n",
    "        print(R_householder)\n",
    "        print(\"b1:\")\n",
    "        print(b1_householder)\n",
    "\n",
    "        # iii) Transformation über Givens-Rotation\n",
    "        R_givens, b1_givens = transform_system_givens(A, b)\n",
    "        print(\"Transformation über Givens-Rotation:\")\n",
    "        print(\"R:\")\n",
    "        print(R_givens)\n",
    "        print(\"b1:\")\n",
    "        print(b1_givens)\n",
    "\n",
    "        # iv) Lösung des reduzierten Gleichungssystems\n",
    "        x_reduced = solve_reduced_system(R_householder, b1_householder)\n",
    "        print(\"Lösung des reduzierten Gleichungssystems (Householder):\")\n",
    "        print(\"x:\")\n",
    "        print(x_reduced)\n",
    "\n",
    "        x_reduced = solve_reduced_system(R_givens, b1_givens)\n",
    "        print(\"Lösung des reduzierten Gleichungssystems (Givens):\")\n",
    "        print(\"x:\")\n",
    "        print(x_reduced)\n",
    "\n",
    "        print(\"------------------\")\n",
    "\n",
    "# Testen der Implementierung\n",
    "test()\n"
   ]
  }
 ],
 "metadata": {
  "kernelspec": {
   "display_name": "base",
   "language": "python",
   "name": "python3"
  },
  "language_info": {
   "codemirror_mode": {
    "name": "ipython",
    "version": 3
   },
   "file_extension": ".py",
   "mimetype": "text/x-python",
   "name": "python",
   "nbconvert_exporter": "python",
   "pygments_lexer": "ipython3",
   "version": "3.9.12"
  },
  "orig_nbformat": 4
 },
 "nbformat": 4,
 "nbformat_minor": 2
}
