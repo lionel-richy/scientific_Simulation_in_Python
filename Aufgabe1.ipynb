{
 "cells": [
  {
   "attachments": {},
   "cell_type": "markdown",
   "metadata": {},
   "source": [
    "Aufgabe 1\n",
    "Lesen Sie Bärwolff: Numerik f. Ingenieure, Physiker und Informatiker, Kapitel 3-3.3 und 4.5\n",
    "und schreiben Sie eine kurze Zusammenfassung."
   ]
  },
  {
   "attachments": {},
   "cell_type": "markdown",
   "metadata": {},
   "source": [
    "Hier werden wir einige Beispiele anhand von Codes illustrieren, die mit unserer Zusammenfassung in Zusammenhang stehen"
   ]
  },
  {
   "cell_type": "code",
   "execution_count": null,
   "metadata": {
    "vscode": {
     "languageId": "plaintext"
    }
   },
   "outputs": [],
   "source": [
    "#code\n",
    "#code"
   ]
  }
 ],
 "metadata": {
  "language_info": {
   "name": "python"
  },
  "orig_nbformat": 4
 },
 "nbformat": 4,
 "nbformat_minor": 2
}
